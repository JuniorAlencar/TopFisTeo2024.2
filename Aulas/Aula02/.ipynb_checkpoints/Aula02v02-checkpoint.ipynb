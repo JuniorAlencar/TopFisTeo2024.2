{
 "cells": [
  {
   "cell_type": "markdown",
   "metadata": {
    "slideshow": {
     "slide_type": "slide"
    }
   },
   "source": [
    "<center>\n",
    "<img src=\"img/colorido-horizontal-ufc.png\" alt=\"Drawing\" style=\"width: 500px;\"/>\n",
    "</center>\n",
    "\n",
    "## Introdução aos Métodos de Montecarlo\n",
    "\n",
    "### Aula 01: Balanço Detalhado\n",
    "\n",
    "Prof. Saulo Reis (Depto. de Física - UFC)"
   ]
  },
  {
   "cell_type": "markdown",
   "metadata": {
    "slideshow": {
     "slide_type": "subslide"
    }
   },
   "source": [
    "### Análise Algoritmo de Monte Carlo\n",
    "\n",
    "Agora, vamos explorar uma versão simplificada do cálculo de $\\pi$ por crianças em uma praia de Monte Carlo em uma grade $3 \\times 3$, com o objetivo de analisar algoritmos de cadeias de Markov. A partícula pode se mover em quatro direções: para cima, para baixo, para a esquerda e para a direita. A análise foca na condição de **balanço detalhado**, essencial para garantir a convergência da cadeia de Markov ao estado estacionário desejado. A transição entre configurações é representada por probabilidades prescritas, denotadas por $\\Pi(a \\rightarrow b)$, e o objetivo é manter as probabilidades estacionárias $P(a)$, $P(b)$ e $P(c)$ constantes.\n",
    "\n",
    "<center>\n",
    "<img src=\"img/pebbles_simp.png\" alt=\"Drawing\" style=\"width: 250px;\"/>\n",
    "</center>"
   ]
  },
  {
   "cell_type": "markdown",
   "metadata": {
    "slideshow": {
     "slide_type": "subslide"
    }
   },
   "source": [
    "### Equações de Probabilidade e Equilíbrio Detalhado\n",
    "\n",
    "Para garantir que a cadeia de Markov atinja o equilíbrio, as probabilidades de transição devem satisfazer:\n",
    "\n",
    "$$\n",
    "P(a)\\Pi(a \\rightarrow b) = P(b)\\Pi(b \\rightarrow a)\n",
    "$$\n",
    "\n",
    "e\n",
    "\n",
    "$$\n",
    "P(a)\\Pi(a \\rightarrow c) = P(c)\\Pi(c \\rightarrow a).\n",
    "$$\n",
    "\n",
    "A condição de normalização requer que:\n",
    "\n",
    "$$\n",
    "\\Pi(a \\rightarrow a) + \\Pi(a \\rightarrow b) + \\Pi(a \\rightarrow c) = 1.\n",
    "$$\n",
    "\n",
    "Essas equações asseguram que a partícula, ao chegar em $a$, pode tanto permanecer em $a$ quanto se mover para $b$ ou $c$, respeitando as proporções das probabilidades estacionárias.\n"
   ]
  },
  {
   "cell_type": "markdown",
   "metadata": {
    "slideshow": {
     "slide_type": "subslide"
    }
   },
   "source": [
    "### Escolha de Probabilidades Simples e Implicações\n",
    "\n",
    "No jogo, as probabilidades de transição para os vizinhos precisam ser iguais a $1/4$, especialmente nas bordas, onde as configurações de canto possuem apenas dois vizinhos. Isso implica que, metade das vezes, o seixo permanece no local, acumulando um “pilha”, enquanto, na outra metade, ele pode se mover. A simplicidade dessas escolhas satisfaz a condição de balanço detalhado, embora existam outras possibilidades de probabilidades de transição mais complexas. Contudo, a simplicidade é a chave para alcançar $P(a) = P(b)$ em todas as configurações vizinhas."
   ]
  },
  {
   "cell_type": "markdown",
   "metadata": {
    "slideshow": {
     "slide_type": "subslide"
    }
   },
   "source": [
    "### Matriz de Transição em Processos de Markov\n",
    "\n",
    "Em uma simulação de Monte Carlo, a probabilidade de uma partícula estar em uma configuração $a$ na iteração $i$ é denotada por $P^i(a)$. Para analisar o comportamento do sistema, é utilizado um grande número de partículas em diferentes estados, o que permite estudar a evolução das probabilidades no tempo.\n",
    "\n",
    "A matriz de transição do sistema, $\\mathcal{M}$, contém as probabilidades de transição entre os estados, e pode ser representada como:\n",
    "$$\n",
    "\\mathcal{M} = \\{ \\Pi(a \\rightarrow b) \\} =\n",
    "\\begin{bmatrix}\n",
    "\\Pi(1 \\rightarrow 1) & \\Pi(1 \\rightarrow 2) & \\dots & \\Pi(1 \\rightarrow 9) \\\\\n",
    "\\Pi(2 \\rightarrow 1) & \\Pi(2 \\rightarrow 2) & \\dots & \\Pi(2 \\rightarrow 9) \\\\\n",
    "\\vdots & \\vdots & \\ddots & \\vdots \\\\\n",
    "\\Pi(9 \\rightarrow 1) & \\Pi(9 \\rightarrow 2) & \\dots & \\Pi(9 \\rightarrow 9)\n",
    "\\end{bmatrix}.\n",
    "$$\n",
    "Cada coluna desta matriz soma 1, conforme a condição de normalização, garantindo que a partícula transita para algum estado.\n"
   ]
  },
  {
   "cell_type": "markdown",
   "metadata": {
    "slideshow": {
     "slide_type": "subslide"
    }
   },
   "source": [
    "### Evolução do Vetor de Probabilidade\n",
    "\n",
    "O vetor de probabilidade inicial, $P^0$, representa a distribuição inicial dos estados. Após uma iteração do algoritmo de Monte Carlo, o novo vetor de probabilidade $P^{i+1}$ é obtido através da multiplicação pela matriz de transição:\n",
    "$$\n",
    "P^{i+1}(a) = \\sum_{b=1}^9 \\Pi(b \\rightarrow a) \\, P^i(b).\n",
    "$$\n",
    "\n",
    "Este processo de multiplicação por $M$ é repetido até que o sistema alcance o equilíbrio. Para entender a convergência, é necessário analisar os autovetores $\\{ \\mathbf{P}^k_e \\}$ e os autovalores $\\{ \\lambda_k \\}$ da matriz $M$, com:\n",
    "$$\n",
    "\\mathcal{M} \\, \\mathbf{P}^k_e = \\lambda_k \\, \\mathbf{P}^k_e.\n",
    "$$"
   ]
  },
  {
   "cell_type": "markdown",
   "metadata": {
    "slideshow": {
     "slide_type": "subslide"
    }
   },
   "source": [
    "### Análise de Convergência\n",
    "\n",
    "O vetor de probabilidade $\\mathbf{P}$ pode ser escrito como uma combinação linear dos autovetores da matriz de transição:\n",
    "$$\n",
    "\\mathbf{P} = \\alpha_1 \\, \\mathbf{P}^1_e + \\alpha_2 \\, \\mathbf{P}^2_e + \\dots + \\alpha_9 \\, \\mathbf{P}^9_e.\n",
    "$$\n",
    "\n",
    "Após $i$ iterações, o vetor de probabilidade é transformado em:\n",
    "$$\n",
    "\\mathcal{M}^i \\, \\mathbf{P} = \\sum_{k=1}^9 \\alpha_k \\, \\lambda_k^i \\, P^k_e.\n",
    "$$\n",
    "\n",
    "Somente um autovetor tem componentes todas não-negativas e corresponde ao maior autovalor $\\lambda_1 = 1$, representando o vetor de probabilidades estacionárias. Outros autovalores determinam a convergência assintótica para o equilíbrio.\n"
   ]
  },
  {
   "cell_type": "code",
   "execution_count": 2,
   "metadata": {
    "slideshow": {
     "slide_type": "skip"
    }
   },
   "outputs": [],
   "source": [
    "import numpy as np\n",
    "import matplotlib.pyplot as plt"
   ]
  },
  {
   "cell_type": "code",
   "execution_count": 17,
   "metadata": {
    "slideshow": {
     "slide_type": "subslide"
    }
   },
   "outputs": [],
   "source": [
    "# Função para o algoritmo 'transfer-matrix'\n",
    "def transfer_matrix(M, P_i):\n",
    "    '''\n",
    "        M é a matriz de transferênccia definida externamente\n",
    "        P_i é a posição inicial da partícula\n",
    "    '''\n",
    "    Pi_next = np.zeros_like(P_i)\n",
    "    for a in range(9):\n",
    "        for b in range(9):\n",
    "            Pi_next[a] += M[b, a] * P_i[b]\n",
    "    return Pi_next"
   ]
  },
  {
   "cell_type": "code",
   "execution_count": 18,
   "metadata": {
    "slideshow": {
     "slide_type": "skip"
    }
   },
   "outputs": [],
   "source": [
    "# Matriz de transferência\n",
    "M = np.array([\n",
    "    [ 1/2, 1/4,   0, 1/4,   0,   0,   0,   0,   0],\n",
    "    [ 1/4, 1/4, 1/4,   0, 1/4,   0,   0,   0,   0],\n",
    "    [   0, 1/4, 1/2,   0,   0, 1/4,   0,   0,   0],\n",
    "    [ 1/4,   0,   0, 1/4, 1/4,   0, 1/4,   0,   0],\n",
    "    [   0, 1/4,   0, 1/4,   0, 1/4,   0, 1/4,   0],\n",
    "    [   0,   0, 1/4,   0, 1/4, 1/4,   0,   0, 1/4],\n",
    "    [   0,   0,   0, 1/4,   0,   0, 1/2, 1/4,   0],\n",
    "    [   0,   0,   0,   0, 1/4,   0, 1/4, 1/4, 1/4],\n",
    "    [   0,   0,   0,   0,   0, 1/4,   0, 1/4, 1/2]\n",
    "])"
   ]
  },
  {
   "cell_type": "code",
   "execution_count": 9,
   "metadata": {
    "slideshow": {
     "slide_type": "skip"
    }
   },
   "outputs": [],
   "source": [
    "# Inicialização do vetor de probabilidade inicial\n",
    "pi_initial = np.zeros(9)\n",
    "pi_initial[8] = 1  # A partícula começa na posição 9\n",
    "\n",
    "# Vetor de probabilidade para cada iteração\n",
    "pi_current = pi_initial.copy()\n",
    "iterations = 35\n",
    "\n",
    "# Armazenar os resultados para o plot\n",
    "pi_history = np.zeros((iterations, 9))\n",
    "pi_history[0] = pi_current\n",
    "\n",
    "# Iterar o algoritmo de Monte Carlo utilizando a matriz de transição\n",
    "for i in range(1, iterations):\n",
    "    pi_current = transfer_matrix(M, pi_current)\n",
    "    pi_history[i] = pi_current\n"
   ]
  },
  {
   "cell_type": "code",
   "execution_count": 30,
   "metadata": {
    "slideshow": {
     "slide_type": "skip"
    }
   },
   "outputs": [],
   "source": [
    "# Plot da figura para comparar o decaimento da probabilidade\n",
    "i_values = np.arange(iterations)\n",
    "prob_shifted = 1/9 - pi_history[:, 0]  # Probabilidade em 1/9 - pi^(i)(1)\n",
    "exact_decay = (0.75) ** i_values  # Decaimento exato teórico\n",
    "\n",
    "plt.figure(figsize=(6, 4))\n",
    "plt.plot(i_values, prob_shifted, label='Exact', lw=1.5)\n",
    "plt.plot(i_values, exact_decay, label='(0.75)^i', linestyle='--')\n",
    "plt.yscale('log')\n",
    "plt.xlabel('iteration $i$')\n",
    "plt.ylabel('prob. (shifted) $1/9 - P^i(1)$')\n",
    "plt.legend()\n",
    "plt.tight_layout()\n",
    "plt.savefig('img/transfer_matrix_convergence.png')\n",
    "plt.close()"
   ]
  },
  {
   "cell_type": "markdown",
   "metadata": {
    "slideshow": {
     "slide_type": "subslide"
    }
   },
   "source": [
    "### Convergência da  matriz de transferência\n",
    "<center>\n",
    "<img src=\"img/transfer_matrix_convergence.png\" alt=\"Drawing\" style=\"width: 500px;\"/>\n",
    "</center>\n",
    "\n"
   ]
  },
  {
   "cell_type": "markdown",
   "metadata": {
    "slideshow": {
     "slide_type": "subslide"
    }
   },
   "source": [
    "A decomposição do vetor de probabilidade $P$ em autovetores da matriz de transição $\\mathcal{M}$ mostra como o sistema converge para o equilíbrio assintótico. O autovetor associado ao maior autovalor $\\lambda_1 = 1$ possui componentes não-negativas, permitindo que seja interpretado como um vetor de probabilidades estacionárias. \n",
    "\n",
    "Os autovetores associados aos autovalores subdominantes, como $\\lambda_2 = 0.75$, representam modos de decaimento que se atenuam exponencialmente no tempo.\n",
    "\n",
    "A solução assintótica pode ser expressa como:\n",
    "$$\n",
    "\\{ \\mathbf{P}^i(1), \\ldots, \\mathbf{P}^i(9) \\} = \\left\\{ \\frac{1}{9}, \\ldots, \\frac{1}{9} \\right\\} + \\alpha_2 \\cdot (0.75)^i \\cdot \\left\\{ -0.21, \\ldots, 0.21 \\right\\} + \\cdots\n",
    "$$\n",
    "\n",
    "- **Primeiro autovalor:** $\\lambda_1 = 1$\n",
    "- **Segundo autovalor:** $\\lambda_2 = 0.75$"
   ]
  },
  {
   "cell_type": "code",
   "execution_count": 33,
   "metadata": {},
   "outputs": [
    {
     "name": "stdout",
     "output_type": "stream",
     "text": [
      "[ 1.00000000e+00  7.50000000e-01  7.50000000e-01  5.00000000e-01\n",
      "  2.50000000e-01  2.50000000e-01 -5.30310388e-17 -6.48486233e-17\n",
      " -5.00000000e-01]\n"
     ]
    }
   ],
   "source": [
    "autovalores, _ = np.linalg.eig(M)\n",
    "print(np.sort(autovalores)[::-1])"
   ]
  },
  {
   "cell_type": "markdown",
   "metadata": {},
   "source": []
  }
 ],
 "metadata": {
  "kernelspec": {
   "display_name": "base",
   "language": "python",
   "name": "python3"
  },
  "language_info": {
   "codemirror_mode": {
    "name": "ipython",
    "version": 3
   },
   "file_extension": ".py",
   "mimetype": "text/x-python",
   "name": "python",
   "nbconvert_exporter": "python",
   "pygments_lexer": "ipython3",
   "version": "3.10.9"
  }
 },
 "nbformat": 4,
 "nbformat_minor": 2
}
