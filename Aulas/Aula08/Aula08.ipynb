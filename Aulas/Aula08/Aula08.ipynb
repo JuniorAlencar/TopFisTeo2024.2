{
 "cells": [
  {
   "cell_type": "markdown",
   "metadata": {
    "slideshow": {
     "slide_type": "slide"
    }
   },
   "source": [
    "<center>\n",
    "<img src=\"img/colorido-horizontal-ufc.png\" alt=\"Drawing\" style=\"width: 500px;\"/>\n",
    "</center>\n",
    "\n",
    "## Introdução aos Métodos de Montecarlo\n",
    "\n",
    "### Aula 08: Integrais de caminho\n",
    "\n",
    "Prof. Saulo Reis (Depto. de Física - UFC)"
   ]
  },
  {
   "cell_type": "code",
   "execution_count": 1,
   "metadata": {},
   "outputs": [],
   "source": [
    "import math\n",
    "import random\n",
    "import matplotlib.pyplot as plt\n",
    "from matplotlib.animation import FuncAnimation\n",
    "\n",
    "from IPython.display import HTML\n",
    "\n",
    "%matplotlib inline"
   ]
  },
  {
   "cell_type": "markdown",
   "metadata": {},
   "source": [
    "### Utilizando Cadeias de Markov"
   ]
  },
  {
   "cell_type": "code",
   "execution_count": 2,
   "metadata": {},
   "outputs": [],
   "source": [
    "def rho_free(x, y, beta):  # Diagonal principal da Matrix Densidade para a Partícula Livre\n",
    "    return math.exp(-(x - y) ** 2 / (2.0 * beta))"
   ]
  },
  {
   "cell_type": "code",
   "execution_count": 3,
   "metadata": {},
   "outputs": [],
   "source": [
    "beta = 4.0\n",
    "N = 8               # número de slices\n",
    "dtau = beta / N\n",
    "delta = 1.0         # deslocamento máximo\n",
    "n_steps = 1000       # número de passos de Monte Carlo\n",
    "x = [random.uniform(-1.0, 1.0) for k in range(N)]  # caminho inicial"
   ]
  },
  {
   "cell_type": "code",
   "execution_count": 4,
   "metadata": {},
   "outputs": [],
   "source": [
    "# Armazenar todas as amostras ao longo da simulação\n",
    "samples = x[:]"
   ]
  },
  {
   "cell_type": "code",
   "execution_count": 5,
   "metadata": {},
   "outputs": [],
   "source": [
    "def update_histogram(samples):\n",
    "    ax_hist.clear()\n",
    "    # Histograma normalizado (density=True) mostra a densidade de probabilidade.\n",
    "    ax_hist.hist(samples, bins=15, alpha=0.7, color='green', density=True)\n",
    "    ax_hist.set_xlabel('x')\n",
    "    ax_hist.set_ylabel('Densidade de probabilidade')\n",
    "    ax_hist.set_title('Histograma normalizado das amostras de x')\n",
    "    ax_hist.set_xlim(-5.0, 5.0)"
   ]
  },
  {
   "cell_type": "code",
   "execution_count": 6,
   "metadata": {},
   "outputs": [],
   "source": [
    "def metropolis_step(x):\n",
    "    k = random.randint(0, N - 1)  # Escolher slice aleatoriamente\n",
    "    knext, kprev = (k + 1) % N, (k - 1) % N  # Slices seguinte e anterior\n",
    "    x_old = x[k]\n",
    "    x_new = x[k] + random.uniform(-delta, delta)  # Nova posição no slice k\n",
    "\n",
    "    old_weight = (rho_free(x[knext], x_old, dtau) *\n",
    "                  rho_free(x_old, x[kprev], dtau) *\n",
    "                  math.exp(-0.5 * dtau * x_old ** 2))\n",
    "    new_weight = (rho_free(x[knext], x_new, dtau) *\n",
    "                  rho_free(x_new, x[kprev], dtau) *\n",
    "                  math.exp(-0.5 * dtau * x_new ** 2))\n",
    "\n",
    "    if random.uniform(0.0, 1.0) < new_weight / old_weight:\n",
    "        x[k] = x_new\n",
    "        Accepted = True\n",
    "    else:\n",
    "        Accepted = False\n",
    "\n",
    "    return x, k, x_old, Accepted"
   ]
  },
  {
   "cell_type": "code",
   "execution_count": 7,
   "metadata": {},
   "outputs": [],
   "source": [
    "# Preparação da figura\n",
    "fig, (ax_path, ax_hist) = plt.subplots(2, 1, figsize=(6, 8))\n",
    "fig.subplots_adjust(hspace=0.4, top=0.9)\n",
    "\n",
    "ax_path.set_xlim(-5.0, 5.0)\n",
    "ax_path.set_ylim(0, N)  # y de 0 até N\n",
    "ax_path.set_xlabel('$x$', fontsize=14)\n",
    "ax_path.set_ylabel('$\\\\tau$', fontsize=14)\n",
    "title = ax_path.set_title('Naive path integral Monte Carlo, step 0')\n",
    "\n",
    "(line_new,) = ax_path.plot([], [], 'bo-', label='new path')\n",
    "(line_old,) = ax_path.plot([], [], 'ro--', label='old path')\n",
    "ax_path.legend()\n",
    "\n",
    "current_step = 0\n",
    "\n",
    "def animate(i):\n",
    "    global x, current_step, samples\n",
    "    x, k, x_old, Accepted = metropolis_step(x)\n",
    "    current_step += 1\n",
    "\n",
    "    # Atualiza o título do subplot do caminho\n",
    "    title.set_text('Naive path integral Monte Carlo, step %i' % current_step)\n",
    "\n",
    "    # Cria o path atualizado\n",
    "    path = x + [x[0]]\n",
    "    y_axis = list(range(len(x) + 1))\n",
    "\n",
    "    # Atualiza a linha do novo caminho\n",
    "    line_new.set_data(path, y_axis)\n",
    "\n",
    "    # Caso tenha sido aceito, mostra o caminho antigo\n",
    "    if Accepted:\n",
    "        old_path = x[:]\n",
    "        old_path[k] = x_old\n",
    "        old_path = old_path + [old_path[0]]\n",
    "        line_old.set_data(old_path, y_axis)\n",
    "    else:\n",
    "        # Se não aceito, limpa o caminho antigo\n",
    "        line_old.set_data([], [])\n",
    "\n",
    "    # Adiciona as novas amostras do caminho à lista global de amostras\n",
    "    samples.extend(x)\n",
    "    # Atualiza o histograma com as amostras acumuladas\n",
    "    update_histogram(samples)\n",
    "\n",
    "    return line_new, line_old, title\n",
    "\n",
    "anim = FuncAnimation(fig, animate, frames=n_steps, interval=5, blit=False, repeat=False)\n",
    "\n",
    "anim.save('./img/naive_path.gif', writer='pillow')\n",
    "\n",
    "plt.close(fig)"
   ]
  },
  {
   "cell_type": "markdown",
   "metadata": {},
   "source": [
    "<center>\n",
    "<img src=\"img/naive_path.gif\" alt=\"Drawing\" style=\"width: 500px;\"/>\n",
    "</center>"
   ]
  },
  {
   "cell_type": "markdown",
   "metadata": {},
   "source": [
    "### Algoritmo de Paul Lévy"
   ]
  },
  {
   "cell_type": "code",
   "execution_count": 14,
   "metadata": {},
   "outputs": [],
   "source": [
    "tau_inicial = 0.0\n",
    "tau_final = 8.0\n",
    "N = 8\n",
    "dtau = (tau_final - tau_inicial) / N\n",
    "n_steps = 50  # Número de caminhos a serem gerados\n",
    "\n",
    "samples = []"
   ]
  },
  {
   "cell_type": "code",
   "execution_count": 15,
   "metadata": {},
   "outputs": [],
   "source": [
    "def levy_path(N, xstart, xend, dtau):\n",
    "    x = [xstart]\n",
    "    for k in range(1, N):\n",
    "        dtau_prime = (N - k) * dtau\n",
    "        Ups1 = 1.0 / math.tanh(dtau) + 1.0 / math.tanh(dtau_prime)\n",
    "        Ups2 = x[k - 1] / math.sinh(dtau) + xend / math.sinh(dtau_prime)\n",
    "        mean = Ups2 / Ups1\n",
    "        sigma = 1.0 / math.sqrt(Ups1)\n",
    "        x_new = random.gauss(mean, sigma)\n",
    "        x.append(x_new)\n",
    "    x.append(xend)\n",
    "    return x"
   ]
  },
  {
   "cell_type": "code",
   "execution_count": 16,
   "metadata": {},
   "outputs": [],
   "source": [
    "fig, (ax_path, ax_hist) = plt.subplots(2, 1, figsize=(6, 8))\n",
    "fig.subplots_adjust(hspace=0.4, top=0.9)\n",
    "\n",
    "ax_path.set_xlim(-5.0, 5.0)\n",
    "ax_path.set_ylim(tau_inicial, tau_final)\n",
    "ax_path.set_xlabel('$x$', fontsize=14)\n",
    "ax_path.set_ylabel('$\\\\tau$', fontsize=14)\n",
    "title = ax_path.set_title('Harmonic path 0')\n",
    "\n",
    "(line_path,) = ax_path.plot([], [], 'bo-', label='path')\n",
    "ax_path.legend()\n",
    "\n",
    "current_step = 0\n",
    "\n",
    "def animate(i):\n",
    "    global current_step, samples\n",
    "    # Escolhe xstart e xend aleatoriamente entre -1 e 1\n",
    "    xstart = random.uniform(-1, 1)\n",
    "    xend = random.uniform(-1, 1)\n",
    "\n",
    "    # Gera um novo caminho\n",
    "    x = levy_path(N, xstart, xend, dtau)\n",
    "    current_step += 1\n",
    "\n",
    "    title.set_text('Harmonic path %i' % current_step)\n",
    "\n",
    "    # Cria o eixo y (tau), indo de tau_inicial até tau_final\n",
    "    y_axis = [tau_inicial + j * dtau for j in range(N + 1)]\n",
    "    line_path.set_data(x, y_axis)\n",
    "\n",
    "    # Atualiza as amostras e o histograma\n",
    "    samples.extend(x)\n",
    "    update_histogram(samples)\n",
    "\n",
    "    return line_path, title\n",
    "\n",
    "anim = FuncAnimation(fig, animate, frames=n_steps, interval=200, blit=False, repeat=False)\n",
    "\n",
    "anim.save('./img/levy_path.gif', writer='pillow')\n",
    "plt.close(fig)"
   ]
  },
  {
   "cell_type": "markdown",
   "metadata": {},
   "source": [
    "<center>\n",
    "<img src=\"img/levy_path.gif\" alt=\"Drawing\" style=\"width: 500px;\"/>\n",
    "</center>"
   ]
  }
 ],
 "metadata": {
  "kernelspec": {
   "display_name": "Python 3 (ipykernel)",
   "language": "python",
   "name": "python3"
  },
  "language_info": {
   "codemirror_mode": {
    "name": "ipython",
    "version": 3
   },
   "file_extension": ".py",
   "mimetype": "text/x-python",
   "name": "python",
   "nbconvert_exporter": "python",
   "pygments_lexer": "ipython3",
   "version": "3.10.14"
  }
 },
 "nbformat": 4,
 "nbformat_minor": 4
}
