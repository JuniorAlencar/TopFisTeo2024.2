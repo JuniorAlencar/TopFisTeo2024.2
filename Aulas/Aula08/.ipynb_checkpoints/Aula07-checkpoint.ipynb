{
 "cells": [
  {
   "cell_type": "markdown",
   "metadata": {
    "slideshow": {
     "slide_type": "slide"
    }
   },
   "source": [
    "<center>\n",
    "<img src=\"img/colorido-horizontal-ufc.png\" alt=\"Drawing\" style=\"width: 500px;\"/>\n",
    "</center>\n",
    "\n",
    "## Introdução aos Métodos de Montecarlo\n",
    "\n",
    "### Aula 06: Matriz densidade e decomposição de Trotter\n",
    "\n",
    "Prof. Saulo Reis (Depto. de Física - UFC)"
   ]
  },
  {
   "cell_type": "code",
   "execution_count": 1,
   "metadata": {},
   "outputs": [],
   "source": [
    "import numpy as np\n",
    "import matplotlib.pyplot as plt\n",
    "from matplotlib.animation import FuncAnimation"
   ]
  },
  {
   "cell_type": "markdown",
   "metadata": {},
   "source": [
    "### Funções para a transformada de Fourier"
   ]
  },
  {
   "cell_type": "code",
   "execution_count": 2,
   "metadata": {},
   "outputs": [],
   "source": [
    "def fourier_x_to_p(phi_x, dx):\n",
    "    phi_p = [(phi_x * np.exp(-1j * p * grid_x)).sum() * dx for p in grid_p]\n",
    "    return np.array(phi_p)"
   ]
  },
  {
   "cell_type": "code",
   "execution_count": 3,
   "metadata": {},
   "outputs": [],
   "source": [
    "def fourier_p_to_x(phi_p, dp):\n",
    "    phi_x = [(phi_p * np.exp(1j * x * grid_p)).sum() * dp for x in grid_x]\n",
    "    return np.array(phi_x) / (2.0 * np.pi)"
   ]
  },
  {
   "cell_type": "markdown",
   "metadata": {},
   "source": [
    "### Passo de evolução temporal"
   ]
  },
  {
   "cell_type": "code",
   "execution_count": 4,
   "metadata": {},
   "outputs": [],
   "source": [
    "def time_step_evolution(psi0, potential, grid_x, grid_p, dx, dp, delta_t):\n",
    "    psi0 = np.exp(-1j * potential * delta_t / 2.0) * psi0\n",
    "    psi0 = fourier_x_to_p(psi0, dx)\n",
    "    psi0 = np.exp(-1j * grid_p ** 2 * delta_t / 2.0) * psi0\n",
    "    psi0 = fourier_p_to_x(psi0, dp)\n",
    "    psi0 = np.exp(-1j * potential * delta_t / 2.0) * psi0\n",
    "    return psi0"
   ]
  },
  {
   "cell_type": "markdown",
   "metadata": {},
   "source": [
    "### Função potencial"
   ]
  },
  {
   "cell_type": "code",
   "execution_count": 5,
   "metadata": {},
   "outputs": [],
   "source": [
    "def funct_potential(x):\n",
    "    if x < -8.0:\n",
    "        return (x + 8.0) ** 2\n",
    "    elif x <= -1.0:\n",
    "        return 0.0\n",
    "    elif x < 1.0:\n",
    "        return 1.0\n",
    "    else:\n",
    "        return 0.0"
   ]
  },
  {
   "cell_type": "markdown",
   "metadata": {},
   "source": [
    "### Inicialização da grade e dos parâmetros"
   ]
  },
  {
   "cell_type": "code",
   "execution_count": 6,
   "metadata": {},
   "outputs": [],
   "source": [
    "steps = 800\n",
    "x_min = -12.0\n",
    "x_max = 40.0\n",
    "grid_x = np.linspace(x_min, x_max, steps)\n",
    "grid_p = np.linspace(x_min, x_max, steps)\n",
    "dx = grid_x[1] - grid_x[0]\n",
    "dp = grid_p[1] - grid_p[0]\n",
    "delta_t = 0.05\n",
    "t_max = 16.0\n",
    "frames = int(t_max / delta_t) "
   ]
  },
  {
   "cell_type": "markdown",
   "metadata": {},
   "source": [
    "### Array do potencial"
   ]
  },
  {
   "cell_type": "code",
   "execution_count": 7,
   "metadata": {},
   "outputs": [],
   "source": [
    "potential = np.array([funct_potential(x) for x in grid_x])"
   ]
  },
  {
   "cell_type": "markdown",
   "metadata": {},
   "source": [
    "### Função de onda inicial"
   ]
  },
  {
   "cell_type": "code",
   "execution_count": 8,
   "metadata": {},
   "outputs": [],
   "source": [
    "x0 = -8.0\n",
    "sigma = 0.5\n",
    "psi = np.exp(-(grid_x - x0) ** 2 / (2.0 * sigma ** 2))\n",
    "psi /= np.sqrt(sigma * np.sqrt(np.pi))\n",
    "psi_ref = [psi]"
   ]
  },
  {
   "cell_type": "markdown",
   "metadata": {},
   "source": [
    "### Criação da animação"
   ]
  },
  {
   "cell_type": "code",
   "execution_count": 9,
   "metadata": {},
   "outputs": [],
   "source": [
    "# Configuração do gráfico\n",
    "fig, ax = plt.subplots()\n",
    "line_psi, = ax.plot([], [], 'g', linewidth=2.0, label='$|\\psi(x)|^2$')\n",
    "line_pot, = ax.plot([], [], 'k', linewidth=2.0, label='$V(x)$')\n",
    "ax.set_xlim(-10, 15)\n",
    "ax.set_ylim(-0.1, 1.15)\n",
    "ax.set_xlabel('$x$', fontsize=20)\n",
    "ax.legend(loc=1)\n",
    "\n",
    "# Função de inicialização\n",
    "def init():\n",
    "    line_psi.set_data([], [])\n",
    "    line_pot.set_data(grid_x, potential)\n",
    "    return line_psi, line_pot\n",
    "\n",
    "# Função de atualização para a animação\n",
    "def update(frame, psi_ref, potential, grid_x, grid_p, dx, dp, delta_t, line_psi):\n",
    "    psi_ref[0] = time_step_evolution(psi_ref[0], potential, grid_x, grid_p, dx, dp, delta_t)\n",
    "    line_psi.set_data(grid_x, np.abs(psi_ref[0]) ** 2)\n",
    "    return line_psi,\n",
    "\n",
    "# Criar a animação\n",
    "ani = FuncAnimation(\n",
    "    fig, update, frames=frames, init_func=init, blit=True, interval=50,\n",
    "    fargs=(psi_ref, potential, grid_x, grid_p, dx, dp, delta_t, line_psi)\n",
    ")\n",
    "\n",
    "# Salvar a animação\n",
    "ani.save('./img/time_evolution.gif', writer='pillow')\n",
    "plt.close()"
   ]
  },
  {
   "cell_type": "markdown",
   "metadata": {},
   "source": [
    "<center>\n",
    "<img src=\"img/time_evolution.gif\" alt=\"Drawing\" style=\"width: 500px;\"/>\n",
    "</center>"
   ]
  }
 ],
 "metadata": {
  "kernelspec": {
   "display_name": "Python 3 (ipykernel)",
   "language": "python",
   "name": "python3"
  },
  "language_info": {
   "codemirror_mode": {
    "name": "ipython",
    "version": 3
   },
   "file_extension": ".py",
   "mimetype": "text/x-python",
   "name": "python",
   "nbconvert_exporter": "python",
   "pygments_lexer": "ipython3",
   "version": "3.10.14"
  }
 },
 "nbformat": 4,
 "nbformat_minor": 4
}
