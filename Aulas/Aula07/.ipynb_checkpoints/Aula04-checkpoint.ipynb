{
 "cells": [
  {
   "cell_type": "markdown",
   "metadata": {
    "slideshow": {
     "slide_type": "slide"
    }
   },
   "source": [
    "<center>\n",
    "<img src=\"img/colorido-horizontal-ufc.png\" alt=\"Drawing\" style=\"width: 500px;\"/>\n",
    "</center>\n",
    "\n",
    "## Introdução aos Métodos de Montecarlo\n",
    "\n",
    "### Aula 04: Simulação de Discos Rígidos\n",
    "\n",
    "Prof. Saulo Reis (Depto. de Física - UFC)"
   ]
  },
  {
   "cell_type": "code",
   "execution_count": 10,
   "metadata": {},
   "outputs": [],
   "source": [
    "import math\n",
    "import random\n",
    "import numpy as np\n",
    "import matplotlib.pyplot as plt\n",
    "from matplotlib.animation import FuncAnimation"
   ]
  },
  {
   "cell_type": "markdown",
   "metadata": {},
   "source": [
    "### Cálculo de Colisões com paredes"
   ]
  },
  {
   "cell_type": "code",
   "execution_count": 3,
   "metadata": {},
   "outputs": [],
   "source": [
    "def wall_time(pos_a, vel_a, sigma):\n",
    "    if vel_a > 0.0:\n",
    "        del_t = (1.0 - sigma - pos_a) / vel_a\n",
    "    elif vel_a < 0.0:\n",
    "        del_t = (pos_a - sigma) / abs(vel_a)\n",
    "    else:\n",
    "        del_t = float('inf')\n",
    "    return del_t"
   ]
  },
  {
   "cell_type": "markdown",
   "metadata": {},
   "source": [
    "### Cálculo de Colisõess entre pares"
   ]
  },
  {
   "cell_type": "code",
   "execution_count": 4,
   "metadata": {},
   "outputs": [],
   "source": [
    "def pair_time(pos_a, vel_a, pos_b, vel_b, sigma):\n",
    "    del_x = [pos_b[0] - pos_a[0], pos_b[1] - pos_a[1]]\n",
    "    del_x_sq = del_x[0] ** 2 + del_x[1] ** 2\n",
    "    del_v = [vel_b[0] - vel_a[0], vel_b[1] - vel_a[1]]\n",
    "    del_v_sq = del_v[0] ** 2 + del_v[1] ** 2\n",
    "    scal = del_v[0] * del_x[0] + del_v[1] * del_x[1]\n",
    "    Upsilon = scal ** 2 - del_v_sq * (del_x_sq - 4.0 * sigma ** 2)\n",
    "    if Upsilon > 0.0 and scal < 0.0:\n",
    "        del_t = - (scal + math.sqrt(Upsilon)) / del_v_sq\n",
    "    else:\n",
    "        del_t = float('inf')\n",
    "    return del_t"
   ]
  },
  {
   "cell_type": "code",
   "execution_count": 5,
   "metadata": {},
   "outputs": [],
   "source": [
    "#Funções adicionais para a criação do GIF\n",
    "\n",
    "def min_arg(l):\n",
    "    return min(zip(l, range(len(l))))\n",
    "\n",
    "def compute_next_event(pos, vel):\n",
    "    wall_times = [wall_time(pos[k][l], vel[k][l], sigma) for k, l in singles]\n",
    "    pair_times = [pair_time(pos[k], vel[k], pos[l], vel[l], sigma) for k, l in pairs]\n",
    "    return min_arg(wall_times + pair_times)\n",
    "\n",
    "def compute_new_velocities(pos, vel, next_event_arg):\n",
    "    if next_event_arg < len(singles):\n",
    "        collision_disk, direction = singles[next_event_arg]\n",
    "        vel[collision_disk][direction] *= -1.0\n",
    "    else:\n",
    "        a, b = pairs[next_event_arg - len(singles)]\n",
    "        del_x = [pos[b][0] - pos[a][0], pos[b][1] - pos[a][1]]\n",
    "        abs_x = math.sqrt(del_x[0] ** 2 + del_x[1] ** 2)\n",
    "        e_perp = [c / abs_x for c in del_x]\n",
    "        del_v = [vel[b][0] - vel[a][0], vel[b][1] - vel[a][1]]\n",
    "        scal = del_v[0] * e_perp[0] + del_v[1] * e_perp[1]\n",
    "        for k in range(2):\n",
    "            vel[a][k] += e_perp[k] * scal\n",
    "            vel[b][k] -= e_perp[k] * scal"
   ]
  },
  {
   "cell_type": "code",
   "execution_count": 6,
   "metadata": {},
   "outputs": [
    {
     "data": {
      "image/png": "[encoded data removed]",
      "text/plain": [
       "<Figure size 600x600 with 1 Axes>"
      ]
     },
     "metadata": {},
     "output_type": "display_data"
    }
   ],
   "source": [
    "# Configurações iniciais\n",
    "pos = [[0.25, 0.25], [0.75, 0.25], [0.25, 0.75], [0.75, 0.75]]\n",
    "vel = [[0.21, 0.12], [0.71, 0.18], [-0.23, -0.79], [0.78, 0.1177]]\n",
    "singles = [(0, 0), (0, 1), (1, 0), (1, 1), (2, 0), (2, 1), (3, 0), (3, 1)]\n",
    "pairs = [(0, 1), (0, 2), (0, 3), (1, 2), (1, 3), (2, 3)]\n",
    "colors = ['r', 'g', 'b', 'orange']\n",
    "sigma = 0.15\n",
    "t = 0.0\n",
    "dt = 0.02     # dt=0 corresponde à animação de evento a evento\n",
    "n_steps = 300\n",
    "arrow_scale = 0.2\n",
    "\n",
    "next_event, next_event_arg = compute_next_event(pos, vel)\n",
    "\n",
    "# Criação da figura e do eixo\n",
    "fig, ax = plt.subplots()\n",
    "ax.axis([0, 1, 0, 1])\n",
    "ax.set_xticks([0, 1])\n",
    "ax.set_yticks([0, 1])\n",
    "fig.set_size_inches(6, 6)\n",
    "plt.subplots_adjust(left=0.10, right=0.90, top=0.90, bottom=0.10)\n",
    "\n",
    "# Criação dos círculos e das setas de velocidade\n",
    "particles = []\n",
    "velocity_lines = []\n",
    "\n",
    "for (x, y), (dx, dy), c in zip(pos, vel, colors):\n",
    "    circle = plt.Circle((x, y), radius=sigma, fc=c)\n",
    "    ax.add_patch(circle)\n",
    "    particles.append(circle)\n",
    "    dx_scaled = dx * arrow_scale\n",
    "    dy_scaled = dy * arrow_scale\n",
    "    line, = ax.plot([x, x + dx_scaled], [y, y + dy_scaled], 'k-')\n",
    "    velocity_lines.append(line)\n",
    "\n",
    "# Texto para o tempo\n",
    "time_text = ax.text(0.5, 1.03, '', ha='center', transform=ax.transAxes)\n",
    "\n",
    "def update(frame):\n",
    "    global pos, vel, t, next_event, next_event_arg\n",
    "\n",
    "    if dt:\n",
    "        next_t = t + dt\n",
    "    else:\n",
    "        next_t = t + next_event\n",
    "    while t + next_event <= next_t:\n",
    "        t += next_event\n",
    "        for k, l in singles:\n",
    "            pos[k][l] += vel[k][l] * next_event\n",
    "        compute_new_velocities(pos, vel, next_event_arg)\n",
    "        next_event, next_event_arg = compute_next_event(pos, vel)\n",
    "    remain_t = next_t - t\n",
    "    for k, l in singles:\n",
    "        pos[k][l] += vel[k][l] * remain_t\n",
    "    t += remain_t\n",
    "    next_event -= remain_t\n",
    "\n",
    "    # Atualiza as posições dos círculos e das setas de velocidade\n",
    "    for i, ((x, y), (dx, dy)) in enumerate(zip(pos, vel)):\n",
    "        particles[i].center = (x, y)\n",
    "        dx_scaled = dx * arrow_scale\n",
    "        dy_scaled = dy * arrow_scale\n",
    "        velocity_lines[i].set_data([x, x + dx_scaled], [y, y + dy_scaled])\n",
    "\n",
    "    # Atualiza o texto do tempo\n",
    "    time_text.set_text('t = %.2f' % t)\n",
    "\n",
    "    return particles + velocity_lines + [time_text]\n",
    "\n",
    "# Cria a animação\n",
    "anim = FuncAnimation(fig, update, frames=n_steps, blit=True)\n",
    "\n",
    "# Salva a animação como GIF\n",
    "anim.save('./img/event_driven.gif', writer='pillow', fps=50)"
   ]
  },
  {
   "cell_type": "markdown",
   "metadata": {},
   "source": [
    "<center>\n",
    "<img src=\"./img/event_driven.gif\" alt=\"Drawing\" style=\"width: 500px;\"/>\n",
    "</center>"
   ]
  },
  {
   "cell_type": "markdown",
   "metadata": {},
   "source": [
    "### Inflência da precisão de ponto flutuante - Surgimento de Caos"
   ]
  },
  {
   "cell_type": "markdown",
   "metadata": {},
   "source": [
    "<center>\n",
    "<img src=\"./img/event_difference.gif\" alt=\"Drawing\" style=\"width: 500px;\"/>\n",
    "</center>"
   ]
  },
  {
   "cell_type": "markdown",
   "metadata": {},
   "source": [
    "### Cálculo de Propriedades Termodinâmicas"
   ]
  },
  {
   "cell_type": "markdown",
   "metadata": {},
   "source": [
    "<center>\n",
    "<img src=\"./img/density_y_4.jpg\" alt=\"Drawing\" style=\"width: 500px;\"/>\n",
    "</center>"
   ]
  },
  {
   "cell_type": "markdown",
   "metadata": {},
   "source": [
    "### Direct Sampling - Mecânica Estatística de Boltzmann"
   ]
  },
  {
   "cell_type": "code",
   "execution_count": 7,
   "metadata": {},
   "outputs": [],
   "source": [
    "# Função para gerar as posições das partículas\n",
    "def direct_disks_box(N, sigma):\n",
    "    condition = False\n",
    "    while not condition:\n",
    "        L = [(random.uniform(sigma, 1.0 - sigma), random.uniform(sigma, 1.0 - sigma))]\n",
    "        for k in range(1, N):\n",
    "            a = (random.uniform(sigma, 1.0 - sigma), random.uniform(sigma, 1.0 - sigma))\n",
    "            min_dist = min(math.sqrt((a[0] - b[0]) ** 2 + (a[1] - b[1]) ** 2) for b in L)\n",
    "            if min_dist < 2.0 * sigma:\n",
    "                condition = False\n",
    "                break\n",
    "            else:\n",
    "                L.append(a)\n",
    "                condition = True\n",
    "    return L"
   ]
  },
  {
   "cell_type": "code",
   "execution_count": 8,
   "metadata": {},
   "outputs": [
    {
     "data": {
      "image/png": "[encoded data removed]",
      "text/plain": [
       "<Figure size 640x480 with 1 Axes>"
      ]
     },
     "metadata": {},
     "output_type": "display_data"
    }
   ],
   "source": [
    "# Parâmetros\n",
    "N = 4\n",
    "colors = ['r', 'g', 'b', 'orange']\n",
    "sigma = 0.2\n",
    "n_runs = 8\n",
    "\n",
    "# Configuração da figura\n",
    "fig, ax = plt.subplots()\n",
    "ax.set_xlim(0, 1)\n",
    "ax.set_ylim(0, 1)\n",
    "ax.set_aspect('equal')\n",
    "ax.set_xticks([0, 1])\n",
    "ax.set_yticks([0, 1])\n",
    "\n",
    "circles = []\n",
    "\n",
    "# Inicializa os círculos (partículas)\n",
    "for color in colors:\n",
    "    circle = plt.Circle((0, 0), radius=sigma, fc=color, animated=True)\n",
    "    ax.add_patch(circle)\n",
    "    circles.append(circle)\n",
    "\n",
    "# Atualização do frame\n",
    "def update(frame):\n",
    "    pos = direct_disks_box(N, sigma)\n",
    "    for circle, (x, y) in zip(circles, pos):\n",
    "        circle.set_center((x, y))\n",
    "    return circles\n",
    "\n",
    "# Animação\n",
    "ani = FuncAnimation(fig, update, frames=n_runs, blit=True)\n",
    "\n",
    "# Salvar o GIF\n",
    "ani.save('./img/direct_disks_box.gif', writer='imagemagick', fps=2)"
   ]
  },
  {
   "cell_type": "markdown",
   "metadata": {},
   "source": [
    "<center>\n",
    "<img src=\"./img/direct_disks_box.gif\" alt=\"Drawing\" style=\"width: 500px;\"/>\n",
    "</center>"
   ]
  },
  {
   "cell_type": "markdown",
   "metadata": {},
   "source": [
    "### Markov-Chain Sampling"
   ]
  },
  {
   "cell_type": "code",
   "execution_count": 18,
   "metadata": {},
   "outputs": [
    {
     "data": {
      "image/png": "[encoded data removed]",
      "text/plain": [
       "<Figure size 640x480 with 1 Axes>"
      ]
     },
     "metadata": {},
     "output_type": "display_data"
    }
   ],
   "source": [
    "# Initial setup\n",
    "L = [[0.25, 0.25], [0.75, 0.25], [0.25, 0.75], [0.75, 0.75]]  # Initial positions of the disks\n",
    "sigma = 0.2  # Radius of the disks\n",
    "delta = 0.1   # Maximum displacement\n",
    "colors = ['r', 'g', 'b', 'orange']  # Colors of the disks\n",
    "n_steps = 1000  # Number of animation frames\n",
    "\n",
    "# Create figure and axes\n",
    "fig, ax = plt.subplots()\n",
    "ax.set_aspect('equal')\n",
    "ax.set_xlim(0, 1)\n",
    "ax.set_ylim(0, 1)\n",
    "ax.set_xticks([0, 1])\n",
    "ax.set_yticks([0, 1])\n",
    "\n",
    "# Create disk patches and add them to the axes\n",
    "circles = []\n",
    "for (x, y), c in zip(L, colors):\n",
    "    circle = plt.Circle((x, y), radius=sigma, fc=c)\n",
    "    ax.add_patch(circle)\n",
    "    circles.append(circle)\n",
    "\n",
    "# Update function for animation\n",
    "def update(frame):\n",
    "    # Select a random disk\n",
    "    a_index = random.randint(0, len(L) - 1)\n",
    "    a = L[a_index]\n",
    "    # Propose a random move\n",
    "    b = [a[0] + random.uniform(-delta, delta), a[1] + random.uniform(-delta, delta)]\n",
    "    # Check for overlaps and boundary conditions\n",
    "    min_dist_sq = min((b[0] - c[0])**2 + (b[1] - c[1])**2 for i, c in enumerate(L) if i != a_index)\n",
    "    box_cond = min(b[0], b[1]) < sigma or max(b[0], b[1]) > 1.0 - sigma\n",
    "    if not (box_cond or min_dist_sq < 4.0 * sigma**2):\n",
    "        # Update disk position\n",
    "        L[a_index] = b\n",
    "        circles[a_index].center = b\n",
    "    return circles\n",
    "\n",
    "# Create the animation\n",
    "anim = FuncAnimation(fig, update, frames=n_steps, blit=False)\n",
    "\n",
    "# Save the animation as a GIF\n",
    "anim.save('./img/markov_disks_box_movie.gif', writer='pillow')"
   ]
  },
  {
   "cell_type": "markdown",
   "metadata": {},
   "source": [
    "<center>\n",
    "<img src=\"./img/markov_disks_box_movie.gif\" alt=\"Drawing\" style=\"width: 500px;\"/>\n",
    "</center>"
   ]
  }
 ],
 "metadata": {
  "kernelspec": {
   "display_name": "Python 3 (ipykernel)",
   "language": "python",
   "name": "python3"
  },
  "language_info": {
   "codemirror_mode": {
    "name": "ipython",
    "version": 3
   },
   "file_extension": ".py",
   "mimetype": "text/x-python",
   "name": "python",
   "nbconvert_exporter": "python",
   "pygments_lexer": "ipython3",
   "version": "3.10.14"
  }
 },
 "nbformat": 4,
 "nbformat_minor": 4
}
