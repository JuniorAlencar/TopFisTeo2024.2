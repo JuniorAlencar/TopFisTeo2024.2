{
 "cells": [
  {
   "cell_type": "markdown",
   "metadata": {
    "slideshow": {
     "slide_type": "subslide"
    }
   },
   "source": [
    "<img src=\"img/colorido-horizontal-ufc.png\" alt=\"Drawing\" style=\"width: 500px;\"/>\n",
    "\n",
    "## Introdução aos Métodos de Montecarlo\n",
    "\n",
    "### Aula 01: Amostragens\n",
    "\n",
    "Prof. Saulo Reis (Depto. de Física - UFC)"
   ]
  },
  {
   "cell_type": "markdown",
   "metadata": {
    "slideshow": {
     "slide_type": "subslide"
    }
   },
   "source": [
    "### Médias temporais e sobre o _Ensemble_ na Termodinâmica e Física Estatística\n",
    "\n",
    "- O valor de uma propriedade termodinâmica $G$ depende do estado dinâmico do sistema, expresso como $G = G(p,q)$, onde $q$ e $p$ são os momentos e as coordenadas.\n",
    "- O valor observado experimentalmente, $G_{\\text{obs}}$, é uma média de tempo ao longo de um intervalo $\\tau$:\n",
    "$$\n",
    "  G_{\\text{obs}} = \\frac{1}{\\tau} \\int_{t_0}^{t_0 + \\tau} G(p, q) \\, dt\n",
    "$$\n",
    "- O cálculo \"mecânico\" de $G_{\\text{obs}}$ é desafiador devido à complexidade do sistema (por exemplo, $10^{24}$ graus de liberdade)."
   ]
  },
  {
   "cell_type": "markdown",
   "metadata": {
    "slideshow": {
     "slide_type": "subslide"
    }
   },
   "source": [
    "### Conectando Médias Temporaiss e Médias sobre o _Ensemble_\n",
    "\n",
    "- Um postulado importante na Mecânica Estatística estabelece que a média temporal $G_{\\text{obs}}$ pode ser equiparada à média sobre o _ensemble_ $\\langle G \\rangle$, definida por:\n",
    "$$\n",
    "  \\langle G \\rangle = \\int \\rho(p, q; t_0) G(p, q) \\, dp \\, dq\n",
    "$$\n",
    "  onde $\\rho(p, q; t_0)$ é a função de densidade de probabilidade de encontrarmos o sistema em $(q,p)$ em $t_0$.\n",
    "- Esta identificação requer que $\\langle G \\rangle$ seja independente do tempo, o que é o caso para estados de equilíbrio.\n",
    "- $\\langle G \\rangle$ é insensível à escolha de $t_0$, devido ao processo de média suavizar as flutuações.\n"
   ]
  },
  {
   "cell_type": "markdown",
   "metadata": {
    "slideshow": {
     "slide_type": "subslide"
    }
   },
   "source": [
    "### Teorema de Liouville e Implicações Práticas\n",
    "\n",
    "- O teorema de Liouville afirma que $\\rho(p,q)$ permanece constante ao longo de uma trajetória no espaço de fases.\n",
    "- Esta invariância simplifica a expressão para $\\langle G \\rangle$, permitindo a troca de ordem nas integrações de tempo e espaço de fases:\n",
    "$$\n",
    "  G_{obs} = \\frac{1}{\\tau} \\int_0^\\tau \\left( \\int \\rho(p, q; t_0) G(p, q) \\, dp \\, dq \\right) ds = \\frac{1}{\\tau} \\int_0^\\tau \\langle G \\rangle \\, ds = \\langle G \\rangle\n",
    "$$\n",
    "- Essa abordagem teórica é o ponto chave da ergodicidade de sistemas físicos no equilíbrio e pode ser estendida para a mecânica estatística fora do equilíbrio, onde princípios de média semelhantes se aplicam."
   ]
  },
  {
   "cell_type": "markdown",
   "metadata": {
    "slideshow": {
     "slide_type": "subslide"
    }
   },
   "source": [
    "### Sistemas Clássicos\n",
    "\n",
    "A teoria desenvolvida para sistemas de $N$ partículas onde efeitos quânticos podem ser ignorados é escrita na linguagem do espaço de fases. Nesse formalismo, as somas sobre estados quânticos são substituídas por integrais no espaço de fases.\n",
    "\n",
    "A média de ensemble $\\langle G \\rangle$ de uma quantidade física $G(q,p)$ é dada por:\n",
    "$$\n",
    "\\langle G \\rangle = \\frac{\\int G(q,p) \\rho(q,p) d^{3N}q d^{3N}p}{\\int \\rho(q,p) d^{3N}q d^{3N}p},\n",
    "$$\n",
    "onde $\\rho(q,p)$ é a densidade dos pontos representativos no espaço de fases..\n",
    "\n",
    "Em situações de equilíbrio do sistema termodinâmico com um reservatório térmico, $\\rho(q,p) \\propto \\exp(-\\beta H(q,p))$, levando à expressão:\n",
    "$$\n",
    "\\langle G \\rangle = \\frac{\\int G(q,p) \\exp(-\\beta H(q,p))  d^{3N}q d^{3N}p}{\\int \\exp(-\\beta H(q,p))  d^{3N}q d^{3N}p}.\n",
    "$$\n",
    "Aqui, $H(q,p)$ é a Hamiltoniana do sistema e $\\beta = 1/k_B T$."
   ]
  },
  {
   "cell_type": "markdown",
   "metadata": {
    "slideshow": {
     "slide_type": "subslide"
    }
   },
   "source": [
    "### Elemento de Volume no Espaço de Fases e Função de Partição\n",
    "\n",
    "O elemento de volume no espaço de fases é dado por $d^{3N}q \\, d^{3N}p$ e está diretamente relacionado à função de partição do sistema. Sua relação com o número de estados quânticos distintos é:\n",
    "$$\n",
    "  \\frac{d^{3N}q \\, d^{3N}p}{N! h^{3N}},\n",
    "$$\n",
    "onde $h$ é o volume ocupado por um microestado no estaço de fase.\n",
    "\n",
    "A função de partição $Q_N(V, T)$ é expressa por:\n",
    "$$\n",
    "  Q_N(V, T) = \\frac{1}{N! h^{3N}} \\int e^{-\\beta H(q, p)} \\, d^{3N}q \\, d^{3N}p\n",
    "$$\n",
    "onde a integração cobre todo o espaço de fase.\n",
    "\n",
    "A função de partição é uma grandeza fundamental da mecânica estatística que resume a distribuição de probabilidades dos estados acessíveis de um sistema, permitindo calcular propriedades termodinâmicas como energia, entropia e pressão."
   ]
  },
  {
   "cell_type": "markdown",
   "metadata": {
    "slideshow": {
     "slide_type": "subslide"
    }
   },
   "source": [
    "### Sistemas Quânticos (caso de Maxwell-Boltzmann)\n",
    "\n",
    "No regime quântico, para o caso onde a natureza quântica das partículas (bosônica ou fermiônica) não é importante, a distribuição estatística é semelhante ao caso clássico, mas com estados quânticos discretos. A média do ensemble $\\langle G \\rangle$ de uma quantidade física $G(E_n)$ é dada por:\n",
    "\n",
    "$$\n",
    "\\langle G \\rangle = \\frac{\\sum_n G(E_n) \\exp(-\\beta E_n)}{\\sum_n \\exp(-\\beta E_n)},\n",
    "$$\n",
    "\n",
    "onde $E_n$ são os níveis de energia discretos e $\\beta = 1/k_B T$.\n",
    "\n",
    "Aqui, a função de partição $Q_N$ é expressa por:\n",
    "\n",
    "$$\n",
    "Q_N = \\sum_n \\exp(-\\beta E_n).\n",
    "$$\n",
    "\n",
    "Assim, a média de qualquer quantidade física $f(E_n)$ é calculada ponderando os estados de energia $E_n$ com a probabilidade de Boltzmann $\\exp(-\\beta E_n)$. Essa sendo conhecida como distribuição de Maxwell-Boltzmann.\n"
   ]
  },
  {
   "cell_type": "markdown",
   "metadata": {
    "slideshow": {
     "slide_type": "subslide"
    }
   },
   "source": [
    "\n",
    "### Mecânica Estatística Quântica de Muitos Corpos no Equilíbrio\n",
    "\n",
    "Considera-se o comportamento quântico de um sistema de muitos corpos descrito pelo Hamiltoniano $\\hat{H}$, com o objetivo de verificar se o sistema pode exibir propriedades de equilíbrio.\n",
    "\n",
    "- Qualquer estado puro $\\psi(t)$ é uma solução da equação de Schrödinger dependente do tempo:\n",
    "$$\n",
    "  \\hat{H} \\psi(t) = i \\hbar \\frac{\\partial}{\\partial t} \\psi(t)\n",
    "$$\n",
    "- $\\psi(t)$ pode ser expresso como uma combinação linear dos autovalores do Hamiltoniano:\n",
    "$$\n",
    "  \\psi(t) = \\sum_n c_n e^{-i E_n t / \\hbar} | n \\rangle\n",
    "$$\n",
    "- A média quântica de um observável $G$ é dada por:\n",
    "$$\n",
    "  \\langle G_t \\rangle = \\sum_{n} |c_n|^2 \\langle n | G | n \\rangle + \\sum_{m \\neq n} c_m^* c_n e^{i(E_n - E_m)t / \\hbar} \\langle m | G | n \\rangle\n",
    "$$\n"
   ]
  },
  {
   "cell_type": "markdown",
   "metadata": {
    "slideshow": {
     "slide_type": "subslide"
    }
   },
   "source": [
    "### Média sobre o _Ensemble_ e Matriz Densidade\n",
    "\n",
    "No contgexto da Mecânica Estatística Quântica onde a natureza das partículas não pode ser desprezada (bosônica ou fermiônica), a média quântica de $G$, para um _ensemble_ $\\mathcal{N}$ de sistemas idênticos, é dada por:\n",
    "$$\n",
    "  \\langle G_t \\rangle = \\frac{1}{\\mathcal{N}} \\sum_{k=1}^{\\mathcal{N}} \\langle \\psi_k(t) | G | \\psi_k(t) \\rangle\n",
    "$$\n",
    "\n",
    "A média sobre o _ensemble_ pode ser reescrita como:\n",
    "$$\n",
    "  \\langle G_t \\rangle = \\sum_k p_k \\langle \\psi_k(t) | G | \\psi_k(t) \\rangle\n",
    "$$\n",
    "\n",
    "Assim, introduzimos a matriz densidade $\\hat{\\rho}(t) = \\sum_k p_k |\\psi_k(t)\\rangle \\langle \\psi_k(t)|$, de modo que a média de $G$ torna-se:\n",
    "$$\n",
    "  \\langle G_t \\rangle = \\text{Tr}(\\hat{\\rho}(t) G)\n",
    "$$\n",
    "\n",
    "A equação de movimento para a matriz densidade é dada por:\n",
    "$$\n",
    "  i \\hbar \\frac{\\partial \\hat{\\rho}}{\\partial t} = [\\hat{H}, \\hat{\\rho}].\n",
    "$$\n"
   ]
  },
  {
   "cell_type": "markdown",
   "metadata": {
    "slideshow": {
     "slide_type": "subslide"
    }
   },
   "source": [
    "### Equilíbrio\n",
    "\n",
    "Para o caso de equilíbrio térmico, a matriz densidade é estacionária, ou seja, $\\frac{\\partial \\hat{\\rho}}{\\partial t} = 0$, e sua diagonal na base de autovalores $\\hat{H}$ será:\n",
    "$$\n",
    "  \\hat{\\rho}(H) = \\sum_n \\rho(E_n) |n\\rangle \\langle n|\n",
    "$$\n",
    "\n",
    "A função de partição $Q_N(\\beta)$ do sistema está relacionada com a matriz densidade em equilíbrio:\n",
    "$$\n",
    "  \\hat{\\rho} = \\frac{1}{Q_N(\\beta)} \\sum_n e^{-\\beta E_n} |n\\rangle \\langle n|,\n",
    "$$\n",
    "ou seja, $Q_N = Tr(e^{-\\beta\\hat{H}})$."
   ]
  },
  {
   "cell_type": "markdown",
   "metadata": {
    "slideshow": {
     "slide_type": "slide"
    }
   },
   "source": [
    "## Motivação para Estudar Métodos de Monte Carlo\n",
    "\n",
    "- Os métodos de Monte Carlo são uma ferramenta essencial para resolver problemas em física estatística e computacional.\n",
    "- Originam-se das mesmas raízes da física estatística e são amplamente utilizados em diversas áreas, como ciências naturais, engenharia, matemática e ciências sociais.\n",
    "- O método de Monte Carlo é uma abordagem estatística-experimental para a computação de integrais usando posições aleatórias, chamadas \"amostras\".\n",
    "- No contexto computacional, os métodos de Monte Carlo nos ajudam a resolver problemas de forma aproximada quando soluções exatas não são viáveis, especialmente em sistemas de alta dimensão.\n",
    "- São altamente flexíveis e poderosos, permitindo resolver praticamente qualquer problema estatístico, embora exijam um planejamento cuidadoso para obter bons resultados com um número mínimo de amostras.\n",
    "- O conceito de amostragem é fundamental, e existem dois tipos principais: amostragem direta e amostragem por cadeia de Markov."
   ]
  },
  {
   "cell_type": "markdown",
   "metadata": {
    "slideshow": {
     "slide_type": "subslide"
    }
   },
   "source": [
    "### Amostragem Direta (Direct Sampling)\n",
    "<center>\n",
    "<img src=\"img/kids_pi_montecarlo.png\" alt=\"Drawing\" style=\"width: 500px;\"/>\n",
    "</center>"
   ]
  },
  {
   "cell_type": "markdown",
   "metadata": {
    "slideshow": {
     "slide_type": "subslide"
    }
   },
   "source": [
    "### Direct Sampling"
   ]
  },
  {
   "cell_type": "code",
   "execution_count": 1,
   "metadata": {
    "slideshow": {
     "slide_type": "skip"
    }
   },
   "outputs": [],
   "source": [
    "import numpy as np\n",
    "import matplotlib.pyplot as plt\n",
    "import random\n",
    "from matplotlib.animation import FuncAnimation"
   ]
  },
  {
   "cell_type": "code",
   "execution_count": 2,
   "metadata": {},
   "outputs": [],
   "source": [
    "def direct_pi(N):\n",
    "    N_hits = 0  # Inicializa o número de acertos\n",
    "    \n",
    "    for _ in range(N):\n",
    "        # Gera x e y aleatórios no intervalo (-1, 1)\n",
    "        x = random.uniform(-1, 1)\n",
    "        y = random.uniform(-1, 1)\n",
    "        \n",
    "        # Verifica se o ponto (x, y) está dentro do círculo de raio 1\n",
    "        if x**2 + y**2 <= 1:\n",
    "            N_hits += 1  # Incrementa o número de acertos\n",
    "    \n",
    "    return N_hits"
   ]
  },
  {
   "cell_type": "code",
   "execution_count": 3,
   "metadata": {
    "slideshow": {
     "slide_type": "skip"
    }
   },
   "outputs": [],
   "source": [
    "# Parâmetros da simulação\n",
    "N = 400  # Número de amostras\n",
    "\n",
    "# Inicializa as variáveis\n",
    "N_hits = 0\n",
    "x_pontos = []\n",
    "y_pontos = []\n",
    "estimativas_pi = []\n",
    "\n",
    "# Configuração da figura e dos eixos\n",
    "fig, axes = plt.subplots(1, 2, figsize=(10, 5))\n",
    "\n",
    "# Define o círculo para plotagem\n",
    "theta = np.linspace(0, 2 * np.pi, 100)\n",
    "circle_x = np.cos(theta)\n",
    "circle_y = np.sin(theta)\n",
    "\n",
    "# Plot à esquerda: configuração inicial\n",
    "axes[0].plot(circle_x, circle_y, color='blue')  # Círculo\n",
    "scatter = axes[0].scatter([], [], color='gray', s=5)  # Pontos anteriores em cinza\n",
    "ultimo_ponto = axes[0].scatter([], [], color='red', s=20)  # Último ponto em vermelho\n",
    "axes[0].set_xlim(-1, 1)\n",
    "axes[0].set_ylim(-1, 1)\n",
    "axes[0].set_aspect('equal')\n",
    "axes[0].set_title(\"Amostragem Direta no Círculo\")\n",
    "\n",
    "# Plot à direita: configuração inicial\n",
    "linha_pi, = axes[1].plot([], [], color='blue')\n",
    "linha_pi_verdadeiro = axes[1].axhline(y=np.pi, color='red', linestyle='--', label='$\\pi$ = 3.1415...')\n",
    "axes[1].set_xlim(0, N)\n",
    "axes[1].set_ylim(2, 4)\n",
    "axes[1].set_xlabel('Número de Amostras')\n",
    "axes[1].set_ylabel('Estimativa de $\\pi$')\n",
    "axes[1].legend()\n",
    "\n",
    "def init():\n",
    "    return scatter, ultimo_ponto, linha_pi\n",
    "\n",
    "# Função de atualização da animação\n",
    "def animate_direct(i):\n",
    "    global N_hits\n",
    "\n",
    "    # Gera x e y aleatórios no intervalo (-1, 1)\n",
    "    x = random.uniform(-1, 1)\n",
    "    y = random.uniform(-1, 1)\n",
    "    x_pontos.append(x)\n",
    "    y_pontos.append(y)\n",
    "\n",
    "    # Verifica se o ponto (x, y) está dentro do círculo de raio 1\n",
    "    if x**2 + y**2 <= 1:\n",
    "        N_hits += 1\n",
    "\n",
    "    # Calcula a estimativa atual de pi\n",
    "    estimativa_pi = 4 * N_hits / (i + 1)\n",
    "    estimativas_pi.append(estimativa_pi)\n",
    "\n",
    "    # Atualiza os pontos do gráfico\n",
    "    scatter.set_offsets(np.c_[x_pontos[:-1], y_pontos[:-1]])  # Pontos anteriores em cinza\n",
    "    ultimo_ponto.set_offsets([[x, y]])  # Último ponto em vermelho\n",
    "\n",
    "\n",
    "    # Atualiza o gráfico de estimativa de pi\n",
    "    linha_pi.set_data(range(1, i + 2), estimativas_pi)\n",
    "\n",
    "    # Atualiza o título do gráfico à direita\n",
    "    axes[1].set_title(f\"Estimativa de $\\pi$: {estimativa_pi:.5f}\")\n",
    "\n",
    "    return scatter, ultimo_ponto, linha_pi\n",
    "\n",
    "# Cria a animação\n",
    "anim = FuncAnimation(fig, animate_direct, init_func=init, frames=N, interval=50, blit=True)\n",
    "\n",
    "# Salva como GIF\n",
    "anim.save('img/direct_pi.gif', writer='pillow', fps=20)\n",
    "\n",
    "plt.close(fig) "
   ]
  },
  {
   "cell_type": "markdown",
   "metadata": {
    "slideshow": {
     "slide_type": "subslide"
    }
   },
   "source": [
    "### Direct Sampling - Esstimativa de $\\pi$\n",
    "<center>\n",
    "<img src=\"img/direct_pi.gif\" alt=\"Drawing\" style=\"width: 500px;\"/>\n",
    "</center>"
   ]
  },
  {
   "cell_type": "code",
   "execution_count": 4,
   "metadata": {
    "slideshow": {
     "slide_type": "skip"
    }
   },
   "outputs": [],
   "source": [
    "# Parâmetros de testes\n",
    "N_values = [400, 4000, 40000]\n",
    "samples = 1000\n",
    "pi_estimates = {N: [] for N in N_values}\n",
    "\n",
    "# Gera amostras para cada valor de N\n",
    "for N in N_values:\n",
    "    for _ in range(samples):\n",
    "        pi_estimates[N].append(4*direct_pi(N)/N)"
   ]
  },
  {
   "cell_type": "code",
   "execution_count": 5,
   "metadata": {
    "slideshow": {
     "slide_type": "skip"
    }
   },
   "outputs": [
    {
     "data": {
      "image/png": "[encoded data removed]",
      "text/plain": [
       "<Figure size 1000x600 with 1 Axes>"
      ]
     },
     "metadata": {},
     "output_type": "display_data"
    }
   ],
   "source": [
    "# Cria o histograma para os diferentes casos de N\n",
    "plt.figure(figsize=(10, 6))\n",
    "\n",
    "plt.grid(True)\n",
    "for N in N_values:\n",
    "    plt.hist(pi_estimates[N], bins=30, alpha=0.6, label=f'N={N}, Pi estimado={sum(pi_estimates[N])/samples:.5f}')\n",
    "\n",
    "plt.title('Estimativa de Pi com diferentes valores de N')\n",
    "plt.xlabel('Valor estimado de Pi')\n",
    "plt.ylabel('Frequência')\n",
    "plt.legend()\n",
    "plt.savefig('img/direct_sample.png')"
   ]
  },
  {
   "cell_type": "markdown",
   "metadata": {
    "slideshow": {
     "slide_type": "subslide"
    }
   },
   "source": [
    "### Direct Sampling - Esstimativa de $\\pi$\n",
    "<center>\n",
    "<img src=\"img/direct_sample.png\" alt=\"Drawing\" style=\"width: 500px;\"/>\n",
    "</center>"
   ]
  },
  {
   "cell_type": "markdown",
   "metadata": {
    "slideshow": {
     "slide_type": "subslide"
    }
   },
   "source": [
    "### Markov-chain sampling\n",
    "\n",
    "\n",
    "Os Métodos de Montecarlo são métodos estocasticos tendo em vista que estes se baseiam em processos aleatórios. A grosso modo, todo processo que pode ser _parametrizado_ por meios de variáveis aleatórias podem ser definidos como **processos estocásticos**. Assim, a utilizção da geração de números aleatórios para simular e resolver problemas complexos que envolvem incerteza, permitindo a estimativa de resultados a partir da repetição de experimentos ou amostragens aleatórias.\n",
    "\n",
    "A amostragem por cadeis de Markov, também conhecida como **Monte Carlo Markov Chain** (MCMC), funciona criando uma sequência de amostras dependentes, onde o próximo estado da cadeia é gerado com base no estado atual, seguindo uma distribuição de probabilidade específica (a propriedade de **Markov**).\n",
    "\n",
    "<center>\n",
    "<img src=\"img/markov_sampling.png\" alt=\"Drawing\" style=\"width: 500px;\"/>\n",
    "</center>"
   ]
  },
  {
   "cell_type": "code",
   "execution_count": 6,
   "metadata": {
    "slideshow": {
     "slide_type": "subslide"
    }
   },
   "outputs": [],
   "source": [
    "def markov_pi(N, delta):\n",
    "    N_hits = 0\n",
    "    x, y = 1, 1  # Posição inicial\n",
    "\n",
    "    for i in range(N):\n",
    "        # Gerar número aleatórios x and y dentro dos limites [-delta, delta]\n",
    "        delta_x = random.uniform(-delta, delta)\n",
    "        delta_y = random.uniform(-delta, delta)\n",
    "\n",
    "        # Verificar se as posições estão dentro dos limites do quadrado\n",
    "        if (abs(x + delta_x) < 1) and (abs(y + delta_y) < 1):\n",
    "            x += delta_x\n",
    "            y += delta_y\n",
    "\n",
    "        # Verificar se as posições estão dentro \n",
    "        if ((x**2 + y**2) < 1):\n",
    "            N_hits += 1\n",
    "\n",
    "    return N_hits"
   ]
  },
  {
   "cell_type": "code",
   "execution_count": 7,
   "metadata": {
    "slideshow": {
     "slide_type": "skip"
    }
   },
   "outputs": [],
   "source": [
    "# Parâmetros da simulação\n",
    "N = 400  # Número de passos\n",
    "x, y = 1.0, 1.0  # Posição inicial\n",
    "delta = 0.3\n",
    "\n",
    "# Inicializa as variáveis\n",
    "x_pontos = [x]\n",
    "y_pontos = [y]\n",
    "estimativas_pi = []\n",
    "N_hits = 0\n",
    "\n",
    "# Configuração da figura e dos eixos\n",
    "fig, axes = plt.subplots(1, 2, figsize=(10, 5))\n",
    "\n",
    "# Define o círculo para plotagem\n",
    "theta = np.linspace(0, 2 * np.pi, 100)\n",
    "circle_x = np.cos(theta)\n",
    "circle_y = np.sin(theta)\n",
    "\n",
    "# Plot à esquerda: configuração inicial\n",
    "axes[0].plot(circle_x, circle_y, color='blue')  # Círculo\n",
    "trajetoria, = axes[0].plot([], [], color='gray', linestyle='-', linewidth=1)  # Trajetória cinza\n",
    "ultimo_ponto = axes[0].scatter([], [], color='red', s=20)  # Último ponto em vermelho\n",
    "axes[0].set_xlim(-1, 1)\n",
    "axes[0].set_ylim(-1, 1)\n",
    "axes[0].set_aspect('equal')\n",
    "axes[0].set_title(\"Cadeia de Markov no Círculo\")\n",
    "\n",
    "# Plot à direita: configuração inicial\n",
    "linha_pi, = axes[1].plot([], [], color='blue')\n",
    "linha_pi_verdadeiro = axes[1].axhline(y=np.pi, color='red', linestyle='--', label='$\\pi$ Verdadeiro')\n",
    "axes[1].set_xlim(0, N)\n",
    "axes[1].set_ylim(0, 4)\n",
    "axes[1].set_xlabel('Número de Passos')\n",
    "axes[1].set_ylabel('Estimativa de $\\pi$')\n",
    "axes[1].legend()\n",
    "\n",
    "def init():\n",
    "    return trajetoria, ultimo_ponto, linha_pi\n",
    "\n",
    "# Função de atualização da animação\n",
    "def animate_markov(frame):\n",
    "    global x, y, N_hits\n",
    "\n",
    "    # Gerar número aleatórios x and y dentro dos limites [-delta, delta]\n",
    "    delta_x = random.uniform(-delta, delta)\n",
    "    delta_y = random.uniform(-delta, delta)\n",
    "    # Verificar se as posições estão dentro dos limites do quadrado\n",
    "    if (abs(x + delta_x) < 1) and (abs(y + delta_y) < 1):\n",
    "        x += delta_x\n",
    "        y += delta_y\n",
    "\n",
    "    # Adiciona os novos pontos\n",
    "    x_pontos.append(x)\n",
    "    y_pontos.append(y)\n",
    "\n",
    "    # Verifica se o ponto está dentro do círculo\n",
    "    if x**2 + y**2 <= 1:\n",
    "        N_hits += 1\n",
    "\n",
    "    # Calcula a estimativa atual de pi\n",
    "    estimativa_pi = 4 * N_hits / (frame + 1)\n",
    "    estimativas_pi.append(estimativa_pi)\n",
    "\n",
    "    # Atualiza a trajetória no gráfico\n",
    "    trajetoria.set_data(x_pontos[:-1], y_pontos[:-1])  # Trajetória em cinza\n",
    "    ultimo_ponto.set_offsets([[x, y]])  # Último ponto em vermelho\n",
    "\n",
    "    # Atualiza o gráfico de estimativa de pi\n",
    "    linha_pi.set_data(range(1, frame + 2), estimativas_pi)\n",
    "\n",
    "    # Atualiza o título do gráfico à direita\n",
    "    axes[1].set_title(f\"Estimativa de $\\pi$: {estimativa_pi:.5f}\")\n",
    "\n",
    "    return trajetoria, ultimo_ponto, linha_pi\n",
    "\n",
    "# Cria a animação\n",
    "anim = FuncAnimation(fig, animate_markov, init_func=init, frames=N, interval=50, blit=True)\n",
    "\n",
    "# Salva como GIF\n",
    "anim.save('img/markov_pi.gif', writer='pillow', fps=20)\n",
    "\n",
    "plt.close(fig) "
   ]
  },
  {
   "cell_type": "markdown",
   "metadata": {
    "slideshow": {
     "slide_type": "subslide"
    }
   },
   "source": [
    "### Markov Chain Sampling - Esstimativa de $\\pi$\n",
    "<center>\n",
    "<img src=\"img/markov_pi.gif\" alt=\"Drawing\" style=\"width: 500px;\"/>\n",
    "</center>"
   ]
  },
  {
   "cell_type": "code",
   "execution_count": 8,
   "metadata": {
    "slideshow": {
     "slide_type": "subslide"
    }
   },
   "outputs": [],
   "source": [
    "# Parâmetros de testes\n",
    "N_values = [400, 4000, 40000]\n",
    "samples = 1000\n",
    "delta = 0.3\n",
    "pi_estimates_markov = {N: [] for N in N_values}\n",
    "\n",
    "# Gera amostras para cada valor de N\n",
    "for N in N_values:\n",
    "    for _ in range(samples):\n",
    "        pi_estimates_markov[N].append(4*markov_pi(N, delta)/N)"
   ]
  },
  {
   "cell_type": "code",
   "execution_count": 9,
   "metadata": {
    "slideshow": {
     "slide_type": "skip"
    }
   },
   "outputs": [
    {
     "data": {
      "image/png": "[encoded data removed]",
      "text/plain": [
       "<Figure size 1000x600 with 1 Axes>"
      ]
     },
     "metadata": {},
     "output_type": "display_data"
    }
   ],
   "source": [
    "# Cria o histograma para os diferentes casos de N\n",
    "plt.figure(figsize=(10, 6))\n",
    "\n",
    "for N in N_values:\n",
    "    plt.hist(pi_estimates_markov[N], bins=30, alpha=0.6, label=f'N={N}, Pi estimado={sum(pi_estimates_markov[N])/samples:.5f}')\n",
    "\n",
    "plt.title('Estimativa de Pi com Markov Chain e diferentes valores de N')\n",
    "plt.xlabel('Valor estimado de Pi')\n",
    "plt.ylabel('Frequência')\n",
    "plt.legend()\n",
    "plt.grid(True)\n",
    "plt.savefig('img/markov_sample.png')"
   ]
  },
  {
   "cell_type": "markdown",
   "metadata": {
    "slideshow": {
     "slide_type": "subslide"
    }
   },
   "source": [
    "### Markov Chain Sampling - Estimativa de $\\pi$\n",
    "<center>\n",
    "<img src=\"img/markov_sample.png\" alt=\"Drawing\" style=\"width: 500px;\"/>\n",
    "</center>"
   ]
  },
  {
   "cell_type": "markdown",
   "metadata": {
    "slideshow": {
     "slide_type": "subslide"
    }
   },
   "source": [
    "### Amostragem de Montecarlo: Amostragens direta e Cadeias de Markov\n",
    "\n",
    "**Método Monte Carlo:**\n",
    "  - Avaliação de integrais de alta dimensionalidade através de amostragem.\n",
    "  - A distribuição $\\rho(\\mathbf{x}, \\mathbf{y})$ não é avaliada diretamente, mas sim amostrada.\n",
    "$$\n",
    "\\langle G \\rangle  = \\frac{\\int_{-1}^{1} dx \\int_{-1}^{1} dy \\, \\rho(x,y) G(x,y)}{\\int_{-1}^{1} dx \\int_{-1}^{1} dy \\, \\rho(x,y)} \\approx \\frac{1}{N} \\sum_{i=1}^{N} G_i\n",
    "$$\n",
    "\n",
    "**Abordagens Básicas do Método Monte Carlo:**\n",
    "  - Combina duas abordagens principais: amostragem direta e via cadeias de Markov.\n",
    "  - Ambas avaliam um observável $O(\\mathbf{x})$, como no exemplo de um círculo unitário.\n"
   ]
  },
  {
   "cell_type": "markdown",
   "metadata": {
    "slideshow": {
     "slide_type": "subslide"
    }
   },
   "source": [
    "### Amostragem de Montecarlo: Amostragens direta e Cadeias de Markov\n",
    "\n",
    "**Amostragem Direta:**\n",
    "  - Método _naïve_, gera amostras $\\mathbf{x}$ diretamente da distribuição $\\rho(\\mathbf{x})$.\n",
    "  - Ausência de dependências como condições iniciais ou correlação.\n",
    "  - Possui análise de erro mais simples.\n",
    "  - Equivalente a soluções exatas em abordagens analíticas.\n",
    "\n",
    "**Amostragem via Cadeias de Markov:**\n",
    "  - Requer maior atenção ao _tempo de correlação_, o qual pode ser muito longo.\n",
    "  - Frequentemente exige amostras _independentes_, obtidas através de cálculos extensos.\n",
    "  - Ampla aplicação, mesmo com desafios computacionais."
   ]
  },
  {
   "cell_type": "markdown",
   "metadata": {
    "slideshow": {
     "slide_type": "slide"
    }
   },
   "source": [
    "### O problema da agulha de Buffon\n",
    "\n",
    "O problema da agulha de Buffon é uma famosa questão de probabilidade proposta por Georges-Louis Leclerc, o Conde de Buffon, no século XVIII. O problema consiste em determinar a probabilidade de uma agulha de comprimento $a$ cair sobre uma linha em um piso com linhas paralelas separadas por uma distância $b$, onde $a\\leq b$. Este problema permite estimar o valor de $\\pi$ através de experimentos repetidos\n",
    "\n",
    " - O centro da agulha $r_{\\text{center}}$ e o ângulo $\\phi$ são distribuídos uniformemente sobre o piso.\n",
    "<center>\n",
    "<img src=\"img/buffon_needle_experiment.png\" alt=\"Drawing\" style=\"width: 500px;\"/>\n",
    "</center>"
   ]
  },
  {
   "cell_type": "markdown",
   "metadata": {
    "slideshow": {
     "slide_type": "subslide"
    }
   },
   "source": [
    "### O problema da agulha de Buffon\n",
    "\n",
    "**Modelagem Matemática:**\n",
    "  - Para $x_{\\text{center}}$ e $\\phi$, $N_{\\text{hits}}(x, \\phi)$ define o número de vezes que a agulha intercepta uma linha.\n",
    "  - A ponta da agulha está em uma posição $x_{\\text{tip}} = x_{\\text{center}} - (a/2)\\cos(\\phi)$. Assim, toda $x_{\\text{tip}}$ sinaliza que a agulha caiu sobre uma linha.\n",
    "$$\n",
    "N_{\\text{hits}}(x, \\phi) = \\begin{cases} \n",
    "1, & \\text{se} \\, x < a/2 \\, \\text{e} \\, |\\phi| < \\arccos(x / (a/2)) \\\\\n",
    "0, & \\text{caso contrário}\n",
    "\\end{cases}\n",
    "$$\n",
    "\n",
    "**Cálculo da média de interseções:**\n",
    "$$\n",
    "\\langle N_{\\text{hits}} \\rangle = \\frac{\\int_0^{b/2} dx \\int_0^{\\pi/2} d\\phi \\, N_{\\text{hits}}(x, \\phi)}\n",
    "{\\int_0^{b/2} dx \\int_0^{\\pi/2} d\\phi} = \\frac{a/2}{(b/2)(\\pi/2)} \\int_0^1 dx \\arccos(x)\n",
    "$$\n",
    "\n",
    "**Probabilidade de interseção:**\n",
    "  - Para $a = b$, a probabilidade média de interseção é $\\frac{2}{\\pi}$.\n",
    "$$\n",
    "P(\\text{interseção}) = \\frac{2}{\\pi}\n",
    "$$"
   ]
  },
  {
   "cell_type": "markdown",
   "metadata": {
    "slideshow": {
     "slide_type": "skip"
    }
   },
   "source": [
    "### Animação do Experimento de Buffon"
   ]
  },
  {
   "cell_type": "code",
   "execution_count": 10,
   "metadata": {
    "slideshow": {
     "slide_type": "skip"
    }
   },
   "outputs": [],
   "source": [
    "import numpy as np\n",
    "from matplotlib.animation import FuncAnimation\n",
    "\n",
    "# Parâmetros do experimento\n",
    "N = 200  # Número de agulhas\n",
    "l = 1.0  # Comprimento das agulhas\n",
    "d = 1.0  # Distâncias entre as linhas no piso\n",
    "\n",
    "# Tamanho do piso\n",
    "l_x = 30   # range em x de 0 a 30\n",
    "l_y = 10   # range em y de 0 a 10\n",
    "n_lines = int(l_y / d)  # Número de linhas no píso"
   ]
  },
  {
   "cell_type": "code",
   "execution_count": 11,
   "metadata": {
    "slideshow": {
     "slide_type": "skip"
    }
   },
   "outputs": [],
   "source": [
    "# Cria todos o dado antecipadamente\n",
    "np.random.seed(0)  # Fixa a semente aleatória para aleatoridade\n",
    "x0_all = np.random.uniform(0, l_x, N)\n",
    "y0_all = np.random.uniform(0, l_y, N)\n",
    "theta_all = np.random.uniform(0, np.pi, N)"
   ]
  },
  {
   "cell_type": "code",
   "execution_count": 12,
   "metadata": {
    "slideshow": {
     "slide_type": "skip"
    }
   },
   "outputs": [],
   "source": [
    "# Transforma x_center para y_center para tips e tails para o plot\n",
    "x1_all = x0_all + (l / 2) * np.cos(theta_all)\n",
    "y1_all = y0_all + (l / 2) * np.sin(theta_all)\n",
    "x2_all = x0_all - (l / 2) * np.cos(theta_all)\n",
    "y2_all = y0_all - (l / 2) * np.sin(theta_all)\n",
    "\n",
    "# verifica intersseções\n",
    "crosses_all = np.floor(y1_all / d) != np.floor(y2_all / d)"
   ]
  },
  {
   "cell_type": "code",
   "execution_count": 13,
   "metadata": {
    "slideshow": {
     "slide_type": "skip"
    }
   },
   "outputs": [],
   "source": [
    "N_cumulative = []\n",
    "pi_estimates = []\n",
    "trials = []\n",
    "\n",
    "# Define parâmetros dos objetos e das figuras\n",
    "fig_width = 8\n",
    "needle_plot_height = fig_width*(l_y/l_x) \n",
    "pi_plot_height = 2\n",
    "total_height = needle_plot_height + pi_plot_height\n",
    "\n",
    "fig = plt.figure(figsize=(fig_width, total_height), constrained_layout=True)\n",
    "gs = fig.add_gridspec(2, 1, height_ratios=[needle_plot_height, pi_plot_height])\n",
    "\n",
    "# Figura 1: Agilhas no piso\n",
    "ax1 = fig.add_subplot(gs[0])\n",
    "ax1.set_aspect('equal')\n",
    "# Plot das linhass no piso\n",
    "for k in range(n_lines + 1):\n",
    "    ax1.axhline(k * d, color='k', linewidth=0.5)\n",
    "ax1.set_xlim(0, l_x)\n",
    "ax1.set_ylim(0, l_y)\n",
    "ax1.set_title(\"Simulação das agulhas de Buffon\")\n",
    "ax1.set_xlabel(\"X\")\n",
    "ax1.set_ylabel(\"Y\")\n",
    "ax1.margins(0)\n",
    "\n",
    "# Figura 2: Estimativa de pi como função do número de agulhas\n",
    "ax2 = fig.add_subplot(gs[1])\n",
    "ax2.set_xlabel('Número de amostras')\n",
    "ax2.set_ylabel('$\\pi$ (Estimado)')\n",
    "ax2.set_title(\"Estimativa de $\\pi$\")\n",
    "ax2.axhline(np.pi, color='r', linestyle='--', label='Valor de $\\pi$')\n",
    "ax2.legend()\n",
    "ax2.grid(True)\n",
    "ax2.margins(0)\n",
    "\n",
    "needle_lines = []\n",
    "pi_line, = ax2.plot([], [], label='Estimated $\\pi$')\n",
    "\n",
    "def init():\n",
    "    return needle_lines + [pi_line]\n",
    "\n",
    "# define o plot para a i-ésima agulha\n",
    "def animate(i):\n",
    "    x1 = x1_all[i]\n",
    "    y1 = y1_all[i]\n",
    "    x2 = x2_all[i]\n",
    "    y2 = y2_all[i]\n",
    "    crosses = crosses_all[i]\n",
    "    \n",
    "    color = 'red' if crosses else 'blue'\n",
    "    line, = ax1.plot([x1, x2], [y1, y2], color)\n",
    "    needle_lines.append(line)\n",
    "    \n",
    "    # Update do valor estima de PI\n",
    "    if len(N_cumulative) == 0:\n",
    "        N_cumulative.append(int(crosses))\n",
    "    else:\n",
    "        N_cumulative.append(N_cumulative[-1] + int(crosses))\n",
    "    trials.append(i + 1)\n",
    "    with np.errstate(divide='ignore', invalid='ignore'):\n",
    "        pi_estimate = (2 * l * trials[-1]) / (d * N_cumulative[-1])\n",
    "    pi_estimates.append(pi_estimate)\n",
    "    \n",
    "    pi_line.set_data(trials, pi_estimates)\n",
    "    ax2.set_xlim(0, N)\n",
    "    ax2.set_ylim(0, max(4, max(pi_estimates) + 0.5))\n",
    "    \n",
    "    return needle_lines + [pi_line]\n",
    "\n",
    "anim = FuncAnimation(fig, animate, init_func=init, frames=N, interval=50, blit=True)\n",
    "\n",
    "anim.save('./img/buffon_needle_simulation.gif', writer='pillow', fps=20)\n",
    "\n",
    "plt.close(fig) "
   ]
  },
  {
   "cell_type": "markdown",
   "metadata": {
    "slideshow": {
     "slide_type": "subslide"
    }
   },
   "source": [
    "<center>\n",
    "<img src=\"img/buffon_needle_simulation.gif\" alt=\"Drawing\" style=\"width: 500px;\"/>\n",
    "</center>"
   ]
  },
  {
   "cell_type": "code",
   "execution_count": 14,
   "metadata": {
    "slideshow": {
     "slide_type": "subslide"
    }
   },
   "outputs": [],
   "source": [
    "import math\n",
    "\n",
    "def direct_needle(N, a, b):\n",
    "    N_hits = 0  # Inicializa o contador de interseções\n",
    "\n",
    "    for i in range(N):  # Itera de 1 a N\n",
    "        x_center = random.uniform(0, b/2)  # Gera x_center aleatório no intervalo [0, b/2]\n",
    "        phi = random.uniform(0, math.pi/2)  # Gera phi aleatório no intervalo [0, π/2]\n",
    "        x_tip = x_center - (a/2) * math.cos(phi)  # Calcula x_tip\n",
    "\n",
    "        if x_tip < 0:  # Verifica se a agulha cruzou uma linha\n",
    "            N_hits += 1  # Incrementa o contador de interseções\n",
    "\n",
    "    return N_hits  # Retorna o número de interseções"
   ]
  },
  {
   "cell_type": "code",
   "execution_count": 15,
   "metadata": {
    "slideshow": {
     "slide_type": "skip"
    }
   },
   "outputs": [],
   "source": [
    "# Parâmetros de teste\n",
    "N_values = [400, 4000, 40000]\n",
    "a = 1.0\n",
    "b = 1.0\n",
    "samples = 1000\n",
    "pi_estimates_needle = {N: [] for N in N_values}\n",
    "\n",
    "# Gera amostras para cada valor de N utilizando o método Markov Chain\n",
    "for N in N_values:\n",
    "    for _ in range(samples):\n",
    "        pi_estimates_needle[N].append((2*a*N)/(b*direct_needle(N, a, b)))"
   ]
  },
  {
   "cell_type": "code",
   "execution_count": 16,
   "metadata": {
    "slideshow": {
     "slide_type": "skip"
    }
   },
   "outputs": [
    {
     "data": {
      "image/png": "[encoded data removed]",
      "text/plain": [
       "<Figure size 1000x600 with 1 Axes>"
      ]
     },
     "metadata": {},
     "output_type": "display_data"
    }
   ],
   "source": [
    "# Cria o histograma para os diferentes casos de N\n",
    "plt.figure(figsize=(10, 6))\n",
    "\n",
    "for N in N_values:\n",
    "    plt.hist(pi_estimates_needle[N], bins=30, alpha=0.6, label=f'N={N}, Pi estimado={sum(pi_estimates_needle[N])/samples:.5f}')\n",
    "\n",
    "plt.title('Estimativa de Pi com as agulhas de Buffon e diferentes valores de N')\n",
    "plt.xlabel('Valor estimado de Pi')\n",
    "plt.ylabel('Frequência')\n",
    "plt.legend()\n",
    "plt.grid(True)\n",
    "plt.savefig('img/direct_needle_sample.png')"
   ]
  },
  {
   "cell_type": "markdown",
   "metadata": {
    "slideshow": {
     "slide_type": "subslide"
    }
   },
   "source": [
    "### Direct Sampling - Estimativa de $\\pi$ pelo experimenta das agulhas de Buffon\n",
    "<center>\n",
    "<img src=\"img/direct_needle_sample.png\" alt=\"Drawing\" style=\"width: 500px;\"/>\n",
    "</center>"
   ]
  },
  {
   "cell_type": "code",
   "execution_count": 17,
   "metadata": {
    "slideshow": {
     "slide_type": "subslide"
    }
   },
   "outputs": [],
   "source": [
    "def direct_needle(N, a, b):\n",
    "    N_hits = 0\n",
    "    \n",
    "    \n",
    "    for i in range(N):  # Itera de 1 a N\n",
    "        x_center = random.uniform(0, b/2)  # Gera x_center aleatório no intervalo [0, b/2]\n",
    "        Gamma = 10\n",
    "        while Gamma > 1:\n",
    "            delta_x = random.uniform(0, 1)  # Gera delta_x aleatório no intervalo [0, 1]\n",
    "            delta_y = random.uniform(0, 1)  # Gera delta_y aleatório no intervalo [0, 1]\n",
    "        \n",
    "            # Calcula Gamma\n",
    "            Gamma = math.sqrt(delta_x**2 + delta_y**2)\n",
    "        \n",
    "        # Calcula x_tip\n",
    "        x_tip = x_center - (a/2) * (delta_x / Gamma)\n",
    "           \n",
    "        # Verifica se houve uma interseção\n",
    "        if x_tip < 0:\n",
    "            N_hits = N_hits + 1\n",
    "        \n",
    "    return N_hits  # Retorna o número de interseções"
   ]
  },
  {
   "cell_type": "code",
   "execution_count": 18,
   "metadata": {
    "slideshow": {
     "slide_type": "skip"
    }
   },
   "outputs": [],
   "source": [
    "# Parâmetros de teste\n",
    "N_values = [400, 4000, 40000]\n",
    "a = 1.0\n",
    "b = 1.0\n",
    "samples = 1000\n",
    "pi_estimates_needle = {N: [] for N in N_values}\n",
    "\n",
    "# Gera amostras para cada valor de N utilizando o método Markov Chain\n",
    "for N in N_values:\n",
    "    for _ in range(samples):\n",
    "        pi_estimates_needle[N].append((2*a*N)/(b*direct_needle(N, a, b)))"
   ]
  },
  {
   "cell_type": "code",
   "execution_count": 19,
   "metadata": {
    "slideshow": {
     "slide_type": "skip"
    }
   },
   "outputs": [
    {
     "data": {
      "image/png": "[encoded data removed]",
      "text/plain": [
       "<Figure size 1000x600 with 1 Axes>"
      ]
     },
     "metadata": {},
     "output_type": "display_data"
    }
   ],
   "source": [
    "# Cria o histograma para os diferentes casos de N\n",
    "plt.figure(figsize=(10, 6))\n",
    "\n",
    "for N in N_values:\n",
    "    plt.hist(pi_estimates_needle[N], bins=30, alpha=0.6, label=f'N={N}, Pi estimado={sum(pi_estimates_needle[N])/samples:.5f}')\n",
    "\n",
    "plt.title('Estimativa de Pi com as agulhas de Buffon e diferentes valores de N')\n",
    "plt.xlabel('Valor estimado de Pi')\n",
    "plt.ylabel('Frequência')\n",
    "plt.legend()\n",
    "plt.grid(True)\n",
    "plt.savefig('img/direct_pebble_needle_sample.png')"
   ]
  },
  {
   "cell_type": "markdown",
   "metadata": {
    "slideshow": {
     "slide_type": "subslide"
    }
   },
   "source": [
    "### Direct Sampling - Estimativa de $\\pi$ pelo experimenta das agulhas de Buffon\n",
    "<center>\n",
    "<img src=\"img/direct_pebble_needle_sample.png\" alt=\"Drawing\" style=\"width: 500px;\"/>\n",
    "</center>"
   ]
  }
 ],
 "metadata": {
  "kernelspec": {
   "display_name": "Python 3 (ipykernel)",
   "language": "python",
   "name": "python3"
  },
  "language_info": {
   "codemirror_mode": {
    "name": "ipython",
    "version": 3
   },
   "file_extension": ".py",
   "mimetype": "text/x-python",
   "name": "python",
   "nbconvert_exporter": "python",
   "pygments_lexer": "ipython3",
   "version": "3.10.14"
  }
 },
 "nbformat": 4,
 "nbformat_minor": 4
}
