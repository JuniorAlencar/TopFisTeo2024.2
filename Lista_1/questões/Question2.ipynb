{
 "cells": [
  {
   "cell_type": "code",
   "execution_count": null,
   "metadata": {},
   "outputs": [],
   "source": [
    "from src.functions import *"
   ]
  },
  {
   "cell_type": "markdown",
   "metadata": {},
   "source": [
    "**Problema 2:** Sistemas biestáveis, como reações químicas em equilíbrio ou certos tipos de circuitos biológicos, frequentemente apersentam potenciais com múltiplos mínimos. Um exemplo clássico é o potencial\n",
    "\n",
    "$$\n",
    "V(x) = x^4 - 4x^2\n",
    "$$\n",
    "\n",
    "que possui dois mínimos estáveis e uma barreira entre eles. A dinâmica de uma partícula sujeita a este potencial, na presença de ruído térmico, pode ser descrita pela *equação de Langevin*, tipicamente escrita na forma unidimensional como:\n",
    "\n",
    "$$\n",
    "\\frac{dx}{dt} = \\frac{1}{\\gamma} \\frac{dV}{dx} + η(t),\n",
    "$$\n",
    "\n",
    "onde $\\gamma$ é o coeficiente de amortecimento e $\\eta(t)$ é um ruído Gaussiano com média zero e correlação ⟨$\\eta(t)\\eta(t')$⟩ $ = 2D\\gamma(t − t′)$.\n",
    "\n",
    "**(a)** Mostre que *no equilíbrio*, a distribuição de probabilidade estacionária da posição da partícula é a distribuição de Boltzmann:\n",
    "\n",
    "$$\n",
    "P_{eq}(x) \\sim e^{−βV(x)} ,\n",
    "$$\n",
    "\n",
    "com $\\beta = 1/k_BT$.\n",
    "\n",
    "**(b)** Ao invés de tentar resolver a equação de Langevin diretametne, utilize o algoritmo de *Metropolis* para simular um comportamento estatístico para simular o comporatamento estatístico da partícla neste potencial. Escolha uma posição inicial aleatória $x_0$. A cada passo, proponha uma nova posição\n",
    "$$\n",
    "x_{nova} = x + \\Delta x,\n",
    "$$\n",
    "onde $\\Delta x$ é um passo aletório, por exemplo, gerado a partir de uma distribuição uniforme ou normal. Calcule a variação do potencial:\n",
    "\n",
    "$$\n",
    "\\Delta V = V(x_{nova}) - V(x)\n",
    "$$\n",
    "onde $V(x)$"
   ]
  },
  {
   "cell_type": "markdown",
   "metadata": {},
   "source": [
    "### **Item (a)**"
   ]
  },
  {
   "cell_type": "code",
   "execution_count": null,
   "metadata": {},
   "outputs": [],
   "source": [
    "\n"
   ]
  }
 ],
 "metadata": {
  "kernelspec": {
   "display_name": "Python 3",
   "language": "python",
   "name": "python3"
  },
  "language_info": {
   "name": "python",
   "version": "3.12.3"
  }
 },
 "nbformat": 4,
 "nbformat_minor": 2
}
