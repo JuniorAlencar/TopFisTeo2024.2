{
 "cells": [
  {
   "cell_type": "code",
   "execution_count": 1,
   "metadata": {},
   "outputs": [],
   "source": [
    "from src.functions import *"
   ]
  },
  {
   "cell_type": "markdown",
   "metadata": {},
   "source": [
    "**Problema 1**: Em sistemas termodinâmicos, a distribuição de Boltzmann descreve a probabilidade\n",
    "de encontrar um sistema em um estado específico com energia $E$. Este conceito é fundamental para\n",
    "entender fenômenos como equilíbrio térmico e a distribuição de partículas em diferentes níveis de\n",
    "energia. Considere a distribuição de Boltzmann para o problema do oscilador harmônico *clássico*:\n",
    "\n",
    "$$\n",
    "P(x) \\propto e^{-\\beta E(x)}, \\text{ com } E(x) = \\frac{1}{2} kx^2,\n",
    "$$\n",
    "\n",
    "onde $β = 1/k_BT$ , $k_B$ é a constante de Boltzmann e $T$ é a temperatura. Sob estas condições, a\n",
    "distribuição de equilíbrio para a coordenada $x$ é gaussiana, com média zero e variância $\\sigma = \\frac{1}{\\beta k}$.\n",
    "\n",
    "\n",
    "**(a)** Gere valores aleatórios de $x$ a partir de uma distribuição uniforme e aceite-os com probabilidade\n",
    "proporcional a $P (x)$ (método de rejeição). Assim, obtém-se uma amostra de valores de $x$ que\n",
    "devem refletir a distribuição de Boltzmann. \n",
    "\n",
    "\n",
    "**(b)** Crie um histograma dos valores simulados de $x$ e normalize-o para estimar a densidade de probabilidade empírica. \n",
    "\n",
    "**(c)** Sobreponha a curva teórica da distribuição de Boltzmann, dada por:\n",
    "\n",
    "$$\n",
    "P_{teórica} (x) = \\sqrt{\\frac{\\beta k}{2\\pi}} exp(-\\frac{\\beta k x^2}{2})\n",
    "$$\n",
    "\n",
    "**(d)** Calcule a média e a variância da amostra obtida e compare com os valores teóricos:\n",
    "\n",
    "$$\n",
    "\\mathbb{E}[x] = 0, Var(x) = \\frac{1}{\\beta k} .\n",
    "$$\n",
    "\n",
    "**(e)** Realize os testes estatísticos de Kolmogorov-Smirnov (K-S) e qui-quadrado para avaliar quan-\n",
    "titativamente se as amostras são consistentes com a distribuição teórica. \n",
    "\n",
    "(**f**) Crie um Q-Q plot\n",
    "para fornecer uma ferramenta visual adicional de comparação entre a distribuição empírica e a distribuição teórica. Dessa forma, além da inspeção visual (histograma e curva teórica), a média, a variância, bem como testes estatísticos e o Q-Q plot, fornecerão evidências quantitativas e gráficas da qualidade da aproximação Monte Carlo à solução analítica"
   ]
  },
  {
   "cell_type": "markdown",
   "metadata": {},
   "source": [
    "## **Item (a)**"
   ]
  },
  {
   "cell_type": "code",
   "execution_count": null,
   "metadata": {},
   "outputs": [],
   "source": [
    "# Item (a) <---------------\n",
    "# Determina largura da gaussiana\n",
    "b = 10\n",
    "a = -b\n",
    "n_samples = 10**7\n",
    "M = 50\n",
    "# Retorna lista de valores aceitos\n",
    "\n",
    "samples = rejection_sampling(n_samples, a, b, M, P, g)\n",
    "print('Amostras aceitas para distribuição de Boltzmann (Rejection samples)')\n",
    "#print(samples)"
   ]
  },
  {
   "cell_type": "markdown",
   "metadata": {},
   "source": [
    "## **Item (b)**"
   ]
  },
  {
   "cell_type": "code",
   "execution_count": null,
   "metadata": {},
   "outputs": [],
   "source": [
    "# Item (b) - Plot do Histograma <---------------\n",
    "m = 200 # número de bins na distribuição\n",
    "# x_aceito e p(x_aceito) empíricos\n",
    "k_data, Pk_data = distribution_data(samples, a, b, m)\n",
    "fig = plt.subplots(figsize=(16, 9))\n",
    "plt.hist(samples, bins=50, density=True, alpha=0.7, label=\"Amostras\", color='green')\n",
    "plt.plot(k_data, Pk_data, 'o', label='P(k) empírico', mfc = \"None\", mec = \"red\", ms=14, mew=1.8)\n",
    "#plt.plot(x, P(x) / sum(P(x)), label=\"Distribuição alvo (não normalizada)\", color='red')\n",
    "#plt.plot(samples, P(samples) / sum(P(samples)), label=\"Distribuição alvo (não normalizada)\", color='red')\n",
    "plt.legend(prop={\"size\": 22}, fancybox=True, framealpha=0.0)\n",
    "plt.xlabel(r\"$x$\", size=25)\n",
    "plt.ylabel(r\"$P(x)$\", size=25)\n",
    "plt.title(\"Rejection Sampling da Distribuição de Boltzmann empírico\", size=20)\n",
    "plt.tick_params('both', width=1.4, length=10, labelsize=22)\n",
    "plt.savefig(\"results/Questão1/RejectionEmpirico.pdf\")\n",
    "plt.show()"
   ]
  },
  {
   "cell_type": "markdown",
   "metadata": {},
   "source": [
    "## **Item (c)**"
   ]
  },
  {
   "cell_type": "code",
   "execution_count": null,
   "metadata": {},
   "outputs": [],
   "source": [
    "Pk_teo = [P_teorica(i) for i in k_data]\n",
    "# Visualizar os resultados\n",
    "m = 50 # número de bins na distribuição\n",
    "fig = plt.subplots(figsize=(16, 9))\n",
    "plt.hist(samples, bins=50, density=True, alpha=0.6, label=\"Amostras\", color='green')\n",
    "plt.plot(k_data, Pk_teo, label='P(k) teórico', mfc = \"None\", mec = \"#00019a\", linewidth=2.8)\n",
    "#plt.plot(x, P(x) / sum(P(x)), label=\"Distribuição alvo (não normalizada)\", color='red')\n",
    "#plt.plot(samples, P(samples) / sum(P(samples)), label=\"Distribuição alvo (não normalizada)\", color='red')\n",
    "plt.legend(prop={\"size\": 22}, fancybox=True, framealpha=0.0)\n",
    "plt.xlabel(r\"$x$\", size=25)\n",
    "plt.ylabel(r\"$P(x)$\", size=25)\n",
    "plt.title(\"Rejection Sampling da Distribuição de Boltzmann teórico\", size=20)\n",
    "plt.tick_params('both', width=1.4, length=10, labelsize=22)\n",
    "plt.savefig(\"results/Questão1/RejectionTeorico.pdf\")\n",
    "plt.show()"
   ]
  },
  {
   "cell_type": "markdown",
   "metadata": {},
   "source": [
    "## **Item (d)**"
   ]
  },
  {
   "cell_type": "code",
   "execution_count": null,
   "metadata": {},
   "outputs": [],
   "source": [
    "E = np.mean(samples) # Valor esperado das amostras (média)\n",
    "var = np.var(samples) # Variância das amostras\n",
    "\n",
    "E_teo = 0.0 # Valor esperado teórico\n",
    "var_teo = 1 / beta * k # Variância teórica\n",
    "\n",
    "Err_E = abs(E - E_teo)\n",
    "Err_var = abs(var - var_teo)\n",
    "\n",
    "print(f'E_medido = {E:.5f}, E_teórico = {E_teo}, Erro_Absoluto = {Err_E:.5f}')\n",
    "print(f'var_medido = {var:.5f}, var_teórico = {var_teo}, Erro_Absoluto = {Err_var:.5f}')"
   ]
  },
  {
   "cell_type": "markdown",
   "metadata": {},
   "source": [
    "## **Item (e)**"
   ]
  },
  {
   "cell_type": "code",
   "execution_count": null,
   "metadata": {},
   "outputs": [],
   "source": [
    "ks_stat, ks_p_value = ks_2samp(Pk_teo, Pk_data)\n",
    "\n",
    "# Normalizar as listas, caso não sejam proporções ou probabilidades (soma = 1)\n",
    "Pk_teo_norm = [x / sum(Pk_teo) for x in Pk_teo]\n",
    "Pk_data_norm = [x / sum(Pk_data) for x in Pk_data]\n",
    "\n",
    "# Aplicar o teste chi-quadrado\n",
    "chi2_stat, chi2_p_value = chisquare(f_obs=Pk_teo_norm, f_exp=Pk_data_norm)\n",
    "\n",
    "# Resultados com mais casas decimais\n",
    "print(f\"Estatística qui-quadrado: {chi2_stat:.10f}\")\n",
    "print(f\"Valor-p: {chi2_p_value:.10f}\")  # 10 casas decimais\n",
    "\n",
    "# Resultados com mais casas decimais\n",
    "print(f\"Estatística KS: {ks_stat:.10f}\")\n",
    "print(f\"KS_Valor-p: {ks_p_value:.10f}\")  # 10 casas decimais\n",
    "\n",
    "# Interpretação dos resultados\n",
    "alpha = 0.05  # Nível de significância\n",
    "\n",
    "# Teste KS\n",
    "if ks_p_value < alpha:\n",
    "    print(\"KS Test: Rejeitamos H0. As distribuições são diferentes.\")\n",
    "else:\n",
    "    print(\"KS Test: Não rejeitamos H0. As distribuições podem ser iguais.\")\n",
    "\n",
    "# Teste Qui-Quadrado\n",
    "if chi2_p_value < alpha:\n",
    "    print(\"Qui-Quadrado: Rejeitamos H0. As distribuições são diferentes.\")\n",
    "else:\n",
    "    print(\"Qui-Quadrado: Não rejeitamos H0. As distribuições podem ser iguais.\")"
   ]
  },
  {
   "cell_type": "markdown",
   "metadata": {},
   "source": [
    "## **Item (f)**"
   ]
  },
  {
   "cell_type": "code",
   "execution_count": null,
   "metadata": {},
   "outputs": [],
   "source": [
    "# Item (c) - Plot do Histograma <---------------\n",
    "Pk_teo = [P_teorica(i) for i in k_data]\n",
    "# Visualizar os resultados\n",
    "#x = np.linspace(-a, a, 1000)\n",
    "fig = plt.subplots(figsize=(16, 9))\n",
    "plt.plot(k_data, Pk_data, 'o', label='P(k) empírico', mfc = \"None\", mec = \"red\", ms=14, mew=1.4)\n",
    "plt.plot(k_data, Pk_teo, label='P(k) teórico', mfc = \"None\", color = \"#00019a\", linewidth=2.4)\n",
    "#plt.plot(x, P(x) / sum(P(x)), label=\"Distribuição alvo (não normalizada)\", color='red')\n",
    "#plt.plot(samples, P(samples) / sum(P(samples)), label=\"Distribuição alvo (não normalizada)\", color='red')\n",
    "\n",
    "plt.text(x=1.7, y=.32, s=rf\"p_value KS = {ks_p_value:.8f}\", fontsize=19, fontweight=\"bold\", \n",
    "        color=\"black\",bbox=dict(facecolor='blue', edgecolor=\"black\", boxstyle=\"round,pad=0.2\", alpha=.1))\n",
    "plt.text(x=1.7, y=.28, s=rf\"p_value chi = {chi2_p_value:.8f}\", fontsize=19, fontweight=\"bold\", \n",
    "        color=\"black\",bbox=dict(facecolor='red', edgecolor=\"black\", boxstyle=\"round,pad=0.2\", alpha=.1))\n",
    "\n",
    "plt.legend(prop={\"size\": 22}, fancybox=True, framealpha=0.0)\n",
    "plt.xlabel(r\"$x$\", size=25)\n",
    "plt.ylabel(r\"$P(x)$\", size=25)\n",
    "plt.title(\"Distribuições teórica e empírica para Boltzmann\", size=22)\n",
    "plt.tick_params('both', width=1.4, length=10, labelsize=22)\n",
    "plt.savefig(\"results/Questão1/Q-Q_plot.pdf\")\n",
    "plt.show()"
   ]
  },
  {
   "cell_type": "markdown",
   "metadata": {},
   "source": [
    "**Problema 2:** Sistemas biestáveis, como reações químicas em equilíbrio ou certos tipos de circuitos biológicos, frequentemente apersentam potenciais com múltiplos mínimos. Um exemplo clássico é o potencial\n",
    "\n",
    "$$\n",
    "V(x) = x^4 - 4x^2\n",
    "$$\n",
    "\n",
    "que possui dois mínimos estáveis e uma barreira entre eles. A dinâmica de uma partícula sujeita a este potencial, na presença de ruído térmico, pode ser descrita pela *equação de Langevin*, tipicamente escrita na forma unidimensional como:\n",
    "\n",
    "$$\n",
    "\\frac{dx}{dt} = \\frac{1}{\\gamma} \\frac{dV}{dx} + η(t),\n",
    "$$\n",
    "\n",
    "onde $\\gamma$ é o coeficiente de amortecimento e $\\eta(t)$ é um ruído Gaussiano com média zero e correlação ⟨$\\eta(t)\\eta(t')$⟩ $ = 2D\\gamma(t − t′)$.\n",
    "\n",
    "**(a)** Mostre que *no equilíbrio*, a distribuição de probabilidade estacionária da posição da partícula é a distribuição de Boltzmann:\n",
    "\n",
    "$$\n",
    "P_{eq}(x) \\sim e^{−βV(x)} ,\n",
    "$$\n",
    "\n",
    "com $\\beta = 1/k_BT$.\n",
    "\n",
    "**(b)** Ao invés de tentar resolver a equação de Langevin diretametne, utilize o algoritmo de *Metropolis* para simular um comportamento estatístico para simular o comporatamento estatístico da partícla neste potencial. Escolha uma posição inicial aleatória $x_0$. A cada passo, proponha uma nova posição\n",
    "$$\n",
    "x_{nova} = x + \\Delta x,\n",
    "$$\n",
    "onde $\\Delta x$ é um passo aletório, por exemplo, gerado a partir de uma distribuição uniforme ou normal. Calcule a variação do potencial:\n",
    "\n",
    "$$\n",
    "\\Delta V = V(x_{nova}) - V(x)\n",
    "$$\n",
    "onde $V(x)$ é dado pela Eq. (1). A nova posição $x_{nova}$ é aceita com probabilidade:\n",
    "$$\n",
    "P = min(1,e^{\\beta \\Delta V}).\n",
    "$$\n",
    "\n",
    "Caso não seja aceita, a posição permanece em x. Plote a posição como função do tempo $t$.\n",
    "\n",
    "**(c)** Compare as distribuições estacionárias obtidas pela solução do estacionário e o histograma resultante das simulações do algoritmo de Metropolis e verifique que a distribuição das posições obtida pelo Monte Carlo coincide com a distribuição de Boltzmann resultante da dinâmica de Langevin.\n",
    "\n",
    "**(d)** Realize longas simulações de Monte Carlo e calcule a probabilidade de encontrarmos a partícula na vizinhança dos mínimos do potencial V(x) como função de temperatura $\\beta$"
   ]
  },
  {
   "cell_type": "markdown",
   "metadata": {},
   "source": [
    "### **Item (b)**"
   ]
  },
  {
   "cell_type": "code",
   "execution_count": null,
   "metadata": {},
   "outputs": [],
   "source": [
    "# Parâmetros fixos\n",
    "beta = 1.0       # Inverso da temperatura (1/k_B T)\n",
    "x0 = 0.0         # Posição inicial\n",
    "delta = .9      # Amplitude máxima do passo aleatório\n",
    "\n",
    "# Valores diferentes de steps\n",
    "step_values = [100, 1000, 10000, 100000]\n",
    "\n",
    "# Configuração do plot 2x2\n",
    "fig, axes = plt.subplots(2, 2, figsize=(12, 10))\n",
    "axes = axes.flatten()  # Para acessar os eixos facilmente em um loop\n",
    "\n",
    "# Simulação e plotagem para cada número de steps\n",
    "for i, steps in enumerate(step_values):\n",
    "    positions = metropolis(V, x0, beta, steps, delta)\n",
    "    time = np.arange(steps + 1)\n",
    "    \n",
    "    # Plot no subplot correspondente\n",
    "    axes[i].plot(time, positions, color='blue', label=f'Steps = {steps}')\n",
    "    axes[i].set_xlabel('Tempo (t)', fontsize=15)\n",
    "    axes[i].set_ylabel('Posição ($x$)', fontsize=15)\n",
    "    axes[i].set_title(f'Trajetória $x(t)$ para Steps = {steps}', fontsize=15)\n",
    "    axes[i].tick_params('both', width=1.4, length=10, labelsize=14, direction='in')\n",
    "\n",
    "# Ajustar layout\n",
    "plt.tight_layout()\n",
    "plt.savefig(\"results/Questão2/metropolis.pdf\")\n",
    "plt.show()"
   ]
  },
  {
   "cell_type": "markdown",
   "metadata": {},
   "source": [
    "### **Item (c)**"
   ]
  },
  {
   "cell_type": "code",
   "execution_count": null,
   "metadata": {},
   "outputs": [],
   "source": [
    "\n",
    "beta = 1.0       # Inverso da temperatura (1/k_B T)\n",
    "x0 = 0.0         # Posição inicial\n",
    "delta = 0.5      # Amplitude máxima do passo aleatório\n",
    "steps = 10**7\n",
    "\n",
    "positions =  metropolis(V, x0, beta, steps, delta)\n",
    "# Histograma\n",
    "hist, bins = np.histogram(positions, bins=150, density=True)\n",
    "bin_centers = (bins[:-1] + bins[1:]) / 2\n",
    "\n",
    "\n",
    "# Normalizar o histograma para obter uma curva de densidade\n",
    "hist_density = hist / trapezoid(hist, bin_centers)\n",
    "\n",
    "# Distribuição teórica\n",
    "x = np.linspace(-3, 3, 500)\n",
    "P_theoretical = np.exp(-beta * V(x))\n",
    "P_theoretical /= trapezoid(P_theoretical, x)\n",
    "\n",
    "# Plot\n",
    "fig = plt.subplots(figsize=(16, 9))\n",
    "plt.bar(bin_centers, hist, width=(bins[1] - bins[0]), alpha=0.7, label=\"Empírico\", color=\"green\")\n",
    "plt.plot(bin_centers, hist_density, label=\"P(k) Empírico\", color=\"blue\", linewidth=2.5)\n",
    "plt.plot(x, P_theoretical, 'o', label='P(k) teórico', mfc = \"None\", mec = \"red\", ms=14, mew=1.8)\n",
    "#plt.plot(x, P(x) / sum(P(x)), label=\"Distribuição alvo (não normalizada)\", color='red')\n",
    "#plt.plot(samples, P(samples) / sum(P(samples)), label=\"Distribuição alvo (não normalizada)\", color='red')\n",
    "plt.legend(prop={\"size\": 22},  framealpha=0.0)\n",
    "plt.xlabel(r\"$x$\", size=25)\n",
    "plt.ylabel(r\"$P(x)$\", size=25)\n",
    "plt.title(\"Distribuição de distâncias por Metropolis\", size=20)\n",
    "plt.tick_params('both', width=1.4, length=10, labelsize=22)\n",
    "plt.savefig(\"results/Questão2/Distri_dist.pdf\")\n",
    "plt.show()"
   ]
  },
  {
   "cell_type": "markdown",
   "metadata": {},
   "source": [
    "## **Item (d)**"
   ]
  },
  {
   "cell_type": "code",
   "execution_count": null,
   "metadata": {},
   "outputs": [],
   "source": [
    "# Encontrar os mínimos do potencial\n",
    "minimos = [-np.sqrt(2), np.sqrt(2)]  # Obtido analiticamente\n",
    "\n",
    "# Função para calcular a probabilidade nos mínimos usando amostras\n",
    "def probabilidade_minimo_amostras(positions, minimo, delta=0.5):\n",
    "    \"\"\"\n",
    "    Calcula a probabilidade de a partícula estar em torno de um mínimo específico\n",
    "    usando as amostras geradas pelo algoritmo de Metropolis.\n",
    "    \n",
    "    Parâmetros:\n",
    "        positions (np.array): Posições da partícula ao longo do tempo.\n",
    "        minimo (float): Posição do mínimo do potencial.\n",
    "        delta (float): Tamanho da região ao redor do mínimo.\n",
    "    \n",
    "    Retorna:\n",
    "        probabilidade (float): Probabilidade estimada.\n",
    "    \"\"\"\n",
    "    return np.sum((positions > minimo - delta) & (positions < minimo + delta)) / len(positions)\n",
    "\n",
    "# Aviso, com steps = 10⁷ demorou cerca de 120min para rodar, caso queira diminuir tempo de execução dimiunir para 10⁶\n",
    "\n",
    "# Parâmetros da simulação\n",
    "β0, βF, N = 0.1, 3.0, 300\n",
    "β = np.linspace(β0, βF, N)\n",
    "x0 = 0.0  # Posição inicial\n",
    "delta = 0.5  # Amplitude máxima do passo aleatório\n",
    "steps = 10**7  # Número de passos na simulação\n",
    "\n",
    "# Armazenar as probabilidades\n",
    "probabilidades_minimos = {m: [] for m in minimos}\n",
    "\n",
    "# Simulação para diferentes valores de beta\n",
    "for beta in β:\n",
    "    positions = metropolis(V, x0, beta, steps, delta)  # Simular com Metropolis\n",
    "    for minimo in minimos:\n",
    "        prob = probabilidade_minimo_amostras(positions, minimo, delta=0.5)\n",
    "        probabilidades_minimos[minimo].append(prob)"
   ]
  },
  {
   "cell_type": "code",
   "execution_count": null,
   "metadata": {},
   "outputs": [],
   "source": [
    "# Plotar os resultados\n",
    "plt.figure(figsize=(19, 8))\n",
    "for minimo, probs in probabilidades_minimos.items():\n",
    "    if (minimo < 0):\n",
    "        plt.plot(β, probs, linewidth=1.8, label=fr'Mínimo em $x = -\\sqrt{{2}}$')\n",
    "    else:\n",
    "        plt.plot(β, probs, linewidth = 1.8, label=fr'Mínimo em $x = \\sqrt{{2}}$')\n",
    "\n",
    "\n",
    "plt.title('Probabilidade nos Mínimos em Função de $\\\\beta$', fontsize=25)\n",
    "plt.xlabel(r'$\\beta$ (Inverso da Temperatura)', size=25)\n",
    "plt.ylabel('Probabilidade no Mínimo', fontsize=20)\n",
    "plt.tick_params('both', width=1.4, length=10, labelsize=22)\n",
    "plt.legend(prop={\"size\": 22}, fancybox=True, framealpha=0.0)\n",
    "plt.savefig(\"results/Questão2/minimum_vs_beta.pdf\")\n",
    "plt.show()"
   ]
  },
  {
   "cell_type": "markdown",
   "metadata": {},
   "source": [
    "## **Extra**"
   ]
  },
  {
   "cell_type": "code",
   "execution_count": null,
   "metadata": {},
   "outputs": [],
   "source": [
    "# Parâmetros da simulação\n",
    "betas = [0.1, 1.0, 2.0, 3.0, 4.0]  # Inverso da temperatura\n",
    "x0 = 0.0  # Posição inicial\n",
    "delta = 1.0  # Amplitude máxima do passo\n",
    "steps = 10**6  # Número de passos\n",
    "\n",
    "# Configuração do plot 2x2\n",
    "fig, ax = plt.subplots(figsize=(16, 12))\n",
    "\n",
    "colors = [\"#03AC13\", \"#00019a\", \"#fe0000\", \"orange\", \"darkslateblue\"]\n",
    "# Simulação e plotagem para cada beta\n",
    "for i, beta in enumerate(betas):\n",
    "    # Simular com Metropolis\n",
    "    positions = metropolis(V, x0, beta, steps, delta)\n",
    "    \n",
    "    # Histograma empírico\n",
    "    hist, bins = np.histogram(positions, bins=100, density=True)\n",
    "    bin_centers = (bins[:-1] + bins[1:]) / 2\n",
    "    \n",
    "    # Distribuição teórica\n",
    "    x = np.linspace(-3, 3, 500)\n",
    "    P_theoretical = np.exp(-beta * V(x))\n",
    "    norm_term = sum([p for p in P_theoretical])\n",
    "    P_theoretical = [p / norm_term for p in P_theoretical]\n",
    "\n",
    "    # Plotar no subplot correspondente\n",
    "    ax.plot(x, P_theoretical, label=rf\"$\\beta$ = {beta}\", color=colors[i], linewidth=2.4)\n",
    "    ax.set_title(rf\"Distribuição para múltiplos $\\beta$\", fontsize=25)\n",
    "    ax.set_xlabel(r\"$x$\", fontsize=20)\n",
    "    ax.set_ylabel(r\"$P(x)$\", fontsize=20)\n",
    "    ax.tick_params('both', width=1.8, length=15, labelsize=19, direction='in')\n",
    "    #ax.legend(fontsize=12)\n",
    "    \n",
    "# Ajustar layout e salvar o gráfico\n",
    "plt.legend(prop={\"size\": 22}, fancybox=True, framealpha=0.0)\n",
    "plt.savefig(\"results/Questão2/Distri_multi_beta.pdf\")\n",
    "plt.show()"
   ]
  },
  {
   "cell_type": "markdown",
   "metadata": {},
   "source": [
    "**Problema 3**: A constante de Stefan-Boltzman, $\\sigma$, relaciona a energia total emitida por um corpo negro com a sua temperatura. Ela é dada por\n",
    "\n",
    "$$\n",
    "\\sigma=\\frac{\\pi^2k_b^4}{60\\hbar^3c^2}\\zeta(4),\n",
    "$$\n",
    "onde $\\zeta(s)$ é função zeta de Riemann. A função zeta de Riemann pode ser expressa na forma na forma integral:\n",
    "$$\n",
    "\\zeta(s)=\\frac{1}{\\Gamma(s)}\\int_0^{\\infty}\\frac{x^{s-1}e^{-x}}{1-e^{-x}}dx,\n",
    "$$\n",
    "onde $\\Gamma(s)=(s-1)!$ é a função Gamma. Utilizando *importance sampling*, gere amostras aleatórias de $x$ de uma distribuição exponencial, $\\omega(x)=e^{-x}$ para $x\\ge0$, que corresponde ao termo $e^{-x}$ no integrando. Reescreva a integral como\n",
    "$$\n",
    "\\zeta(s)=\\frac{1}{\\Gamma(s)}\\mathbb{E}\\left[\\frac{x^{s-1}}{1-e^{-x}}dx\\right].\n",
    "$$\n",
    "Compare seu resultado de Monte Carlo com o valor exato:\n",
    "$$\n",
    "\\zeta(4)=\\frac{\\pi^4}{90}.\n",
    "$$"
   ]
  },
  {
   "cell_type": "code",
   "execution_count": 2,
   "metadata": {},
   "outputs": [
    {
     "data": {
      "text/plain": [
       "1.0806112116848943"
      ]
     },
     "execution_count": 2,
     "metadata": {},
     "output_type": "execute_result"
    }
   ],
   "source": [
    "# Exemplo de uso da função\n",
    "N = 1000000  # Número de iterações\n",
    "s = 4  # Valor de s\n",
    "resultado = direct_zeta(N, s)\n",
    "resultado"
   ]
  },
  {
   "cell_type": "markdown",
   "metadata": {},
   "source": [
    "Diferença do valor exato"
   ]
  },
  {
   "cell_type": "code",
   "execution_count": 3,
   "metadata": {},
   "outputs": [
    {
     "name": "stdout",
     "output_type": "stream",
     "text": [
      "diferença do valor teórico e do obtido=0.171%\n"
     ]
    }
   ],
   "source": [
    "Zetta_teorico=np.pi**4/90\n",
    "Delta_zetta=Zetta_teorico-resultado\n",
    "percent_Delta_zetta=Delta_zetta*100\n",
    "print(f'diferença do valor teórico e do obtido={percent_Delta_zetta:.3f}%')"
   ]
  },
  {
   "cell_type": "markdown",
   "metadata": {},
   "source": [
    "**Problema 4**: Considere a integral de uma função $f(\\boldsymbol{x})$ em um espaço de $d$ dimensões. A integral pode ser expressa como:\n",
    "$$\n",
    "    I = \\int_{[0,1]^d} f(\\boldsymbol{x})d\\boldsymbol{x}.\n",
    "$$\n",
    "\n",
    "**(a)**: Utilize Monte Carlo para estimar a integral acima. Gere N vetores $\\boldsymbol{x}$ com componentes uniformemente distribuídas no intervalo $[0,1]$ para $d = 1$ e $f(\\boldsymbol{x}) = e^{-|\\boldsymbol{x}|^2}$.\n",
    "\n",
    "**(b)**: Para diferentes valores de $d$ ($d = 2,6,10$), estude como o número de amostras $N$ necessário para alcançar a precisão desejada varia com a dimensionalidade.\n",
    "\n",
    "**(c)**: Calcule o erro padrão da média para cada caso e analise a taxa de convergência."
   ]
  },
  {
   "cell_type": "markdown",
   "metadata": {},
   "source": [
    "### **Item (a)**"
   ]
  },
  {
   "cell_type": "code",
   "execution_count": 4,
   "metadata": {},
   "outputs": [
    {
     "name": "stdout",
     "output_type": "stream",
     "text": [
      "Valor aproximado da integral: 0.7472782459959944 para d=1\n",
      "valor teórico: 0.746824\n",
      "Diferença do valor real: 0.061%\n"
     ]
    }
   ],
   "source": [
    "#d=1 é a dimensão\n",
    "d=1\n",
    "N = 100000  # Número de amostras\n",
    "I=(0.746824)**d\n",
    "resultado = integral_I(N, d)\n",
    "print(f\"Valor aproximado da integral: {resultado} para d={d}\")\n",
    "print(f\"valor teórico: {I}\")\n",
    "diferenca = abs((resultado - I) / I) * 100\n",
    "print(f\"Diferença do valor real: {diferenca:0.3f}%\")"
   ]
  },
  {
   "cell_type": "markdown",
   "metadata": {},
   "source": [
    "### **Item (b)**"
   ]
  },
  {
   "cell_type": "code",
   "execution_count": 5,
   "metadata": {},
   "outputs": [
    {
     "name": "stdout",
     "output_type": "stream",
     "text": [
      "    Dimensão (d)  Amostras (N)  Diferença (%)\n",
      "0              2           100       1.747406\n",
      "1              6           100       4.381714\n",
      "2             10           100       1.055395\n",
      "3              2          1000       1.181263\n",
      "4              6          1000       0.804602\n",
      "5             10          1000       2.541867\n",
      "6              2         10000       0.276248\n",
      "7              6         10000       0.736299\n",
      "8             10         10000       0.930888\n",
      "9              2        100000       0.212625\n",
      "10             6        100000       0.373676\n",
      "11            10        100000       0.313408\n",
      "12             2       1000000       0.011815\n",
      "13             6       1000000       0.030528\n",
      "14            10       1000000       0.074201\n"
     ]
    }
   ],
   "source": [
    "# Dimensões e números de amostras\n",
    "dimensoes = [2, 6, 10]\n",
    "amostras = [100, 1000, 10000, 100000,1000000]\n",
    "\n",
    "# Criar uma lista para armazenar os resultados\n",
    "resultados = []\n",
    "for N in amostras:\n",
    "    for d in dimensoes:\n",
    "        I = (0.746824) ** d  # Valor teórico\n",
    "        resultado = integral_I(N, d)  # Chamada da função\n",
    "        diferenca = abs((resultado - I) / I) * 100  # Diferença percentual\n",
    "        # Armazenar os dados como uma linha\n",
    "        resultados.append({\n",
    "            \"Dimensão (d)\": d,\n",
    "            \"Amostras (N)\": N,\n",
    "            \"Diferença (%)\": diferenca\n",
    "        })\n",
    "\n",
    "# Criar um DataFrame com os resultados\n",
    "df_resultados = pd.DataFrame(resultados)\n",
    "\n",
    "# Exibir a tabela\n",
    "print(df_resultados)\n",
    "\n",
    "# Opcional: salvar a tabela em um arquivo CSV\n",
    "df_resultados.to_csv(\"resultados_integral.csv\", index=False)\n"
   ]
  },
  {
   "cell_type": "markdown",
   "metadata": {},
   "source": [
    "### **Item (c)**"
   ]
  },
  {
   "cell_type": "code",
   "execution_count": 6,
   "metadata": {},
   "outputs": [],
   "source": [
    "# Função para calcular erro padrão da média e a taxa de convergência\n",
    "def convergence_rate(d, N_samples_list):\n",
    "    \"\"\"\n",
    "    Calcula o erro padrão da média e taxa de convergência para diferentes números de amostras.\n",
    "    \n",
    "    Args:\n",
    "        d (int): Dimensão da integral.\n",
    "        N_samples_list (list of int): Lista com o número de amostras.\n",
    "    \n",
    "    Returns:\n",
    "        tuple: Lista de erros padrão da média e taxas de convergência.\n",
    "    \"\"\"\n",
    "    errors = []\n",
    "    for N in N_samples_list:\n",
    "        estimates = [integral_I(N, d) for _ in range(10)]  # Média em 10 execuções\n",
    "        error_std = np.std(estimates)                                # Erro padrão\n",
    "        errors.append(error_std)\n",
    "    \n",
    "    # Calcula a taxa de convergência: log-log slope\n",
    "    log_N = np.log(N_samples_list)\n",
    "    log_errors = np.log(errors)\n",
    "    slope = np.polyfit(log_N, log_errors, 1)[0]  # Coeficiente angular da reta\n",
    "    return errors, slope\n",
    "\n",
    "# Parâmetros\n",
    "dimensions = [2, 6, 10]\n",
    "N_samples_list = [10**i for i in range(2,7)]  # Amostras variando de 10^2 a 10^6\n"
   ]
  },
  {
   "cell_type": "code",
   "execution_count": 7,
   "metadata": {},
   "outputs": [
    {
     "data": {
      "image/png": "[encoded data removed]",
      "text/plain": [
       "<Figure size 1152x648 with 1 Axes>"
      ]
     },
     "metadata": {
      "needs_background": "light"
     },
     "output_type": "display_data"
    }
   ],
   "source": [
    "# Plotagem\n",
    "plt.figure(figsize=(16, 9))\n",
    "for d in dimensions:\n",
    "    errors, slope = convergence_rate(d, N_samples_list)\n",
    "    plt.plot(N_samples_list, errors, 'o', label=f'd = {d}, slope = {slope:.2f}', mfc=\"None\", ms=20, mew=1.8)\n",
    "\n",
    "plt.xscale('log')\n",
    "plt.yscale('log')\n",
    "plt.xlabel('Número de Amostras (N)', size=25)\n",
    "plt.ylabel('Erro Padrão da Média', size=25)\n",
    "\n",
    "# Configurações dos ticks\n",
    "plt.tick_params('both', which='major', width=1.4, length=10, labelsize=22)  # Major ticks\n",
    "plt.tick_params('both', which='minor', width=1.2, length=6, labelsize=18)   # Minor ticks\n",
    "plt.minorticks_on()  # Ativa os minor ticks\n",
    "\n",
    "plt.title('Taxa de Convergência do Método de Monte Carlo', fontsize=14)\n",
    "plt.legend(prop={\"size\": 22}, fancybox=True, framealpha=0.0)\n",
    "plt.show()\n"
   ]
  },
  {
   "cell_type": "markdown",
   "metadata": {},
   "source": [
    "**Problema 5**: Em física de partículas, distribuições angulares podem descrever a probabilidade de observação de partículas em diferentes direções após colisões de alta energia. Como exemplo, considere a reação de aniquilação entre elétron e um pósitron para formar um par de múons ($\\mu^+\\mu^-$). A probabilidade de observar um múon em um determinado ângulo $\\theta$ (medido a partir da direção do elétron incidente) é proporcional a:\n",
    "\n",
    "$$\n",
    "    P(\\theta) \\propto 1 + cos^2(\\theta), \\quad \\text{com} \\quad 0 \\le \\theta \\le \\pi.\n",
    "$$\n",
    "\n",
    "Sob essas condições, o problema propõe a geração de amostras do ângulo $\\theta$ cuja distribuição segue a função de probabilidade acima usando métodos de Monte Carlo.\n",
    "\n",
    "**(a)**: Normalize a distribuição de probabilidades $P(\\theta)$, determinando o fator de normalização.\n",
    "\n",
    "**(b)** Implemente um método de amostragem para gerar valores de $\\theta$ que sigam $P(cos(\\theta))$ utilizando métodos de Monte Carlo por rejeição, ou seja, sorteie ângulos $\\theta$ uniformemente distribuídos em $[0, \\pi]$. Assim, gere números aleatórios uniformes para decidir se cada $\\theta$ proposto é aceito com base em sua probabilidade relativa $1 + cos^2(\\theta)$.\n",
    "\n",
    "**(c)** Crie um histograma dos valores de $\\theta$ obtidos e compare com a distribuição teórica $P(\\theta)$. Compare seu resultado com a Figura \\ref{reference}.\n",
    "\n",
    "**(d)** Calcule a média e a variância das amostras obtidas e compare com os valores teóricos para a distribuição normalizada.\n",
    "\n",
    "**(e)** Realize testes estatísticos como Kolmogorov-Smirnov (K-S) e qui-quadrado para avaliar quantitativamente se as amostras obtidas são consistentes com a distribuição teórica."
   ]
  },
  {
   "cell_type": "markdown",
   "metadata": {},
   "source": [
    "### **Item (a)** Este item está feito no pdf"
   ]
  },
  {
   "cell_type": "markdown",
   "metadata": {},
   "source": [
    "### **Item (b)** "
   ]
  },
  {
   "cell_type": "code",
   "execution_count": 8,
   "metadata": {},
   "outputs": [
    {
     "name": "stdout",
     "output_type": "stream",
     "text": [
      "Amostras aceitas para distribuição $P(cos(\\theta))$ (Rejection samples)\n"
     ]
    }
   ],
   "source": [
    "n_samples = 10**6\n",
    "M = 50\n",
    "a=-1 \n",
    "b=1\n",
    "\n",
    "#Retorna lista de valores aceitos\n",
    "#Foram sorteados valores uniformementes entre (-1,1) que é o equivalente de sortear entre (cos(0),cos(\\pi)\n",
    "samples = rejection_sampling(n_samples, a, b, M, Pcos, g)\n",
    "\n",
    "\n",
    "print(r'Amostras aceitas para distribuição $P(cos(\\theta))$ (Rejection samples)')\n"
   ]
  },
  {
   "cell_type": "code",
   "execution_count": 9,
   "metadata": {},
   "outputs": [
    {
     "data": {
      "image/png": "[encoded data removed]",
      "text/plain": [
       "<Figure size 1152x648 with 1 Axes>"
      ]
     },
     "metadata": {
      "needs_background": "light"
     },
     "output_type": "display_data"
    }
   ],
   "source": [
    "# Item (b) - Plot do Histograma <---------------\n",
    "m = 200 # número de bins na distribuição\n",
    "# x_aceito e p(x_aceito) empíricos\n",
    "#Este resultado não está normalizado\n",
    "\n",
    "fig = plt.subplots(figsize=(16, 9))\n",
    "plt.hist(samples, bins=50, density=True, alpha=0.7, label=\"Amostras\", color='green')\n",
    "plt.xlabel(r\"$cos(\\theta)$\", size=25)\n",
    "plt.ylabel(r\"$P(cos(\\theta))$\", size=25)\n",
    "plt.tick_params('both', width=1.4, length=10, labelsize=22)\n",
    "plt.savefig(\"results/Questão5/RejectionEmpiricopcos.pdf\")\n",
    "plt.show()"
   ]
  },
  {
   "cell_type": "markdown",
   "metadata": {},
   "source": [
    "### **Item (c)** "
   ]
  },
  {
   "cell_type": "code",
   "execution_count": 10,
   "metadata": {},
   "outputs": [
    {
     "name": "stdout",
     "output_type": "stream",
     "text": [
      "Amostras aceitas para distribuição $P(\\theta)$ (Rejection samples)\n"
     ]
    }
   ],
   "source": [
    "n_samples = 10**6\n",
    "M = 100\n",
    "a=0 \n",
    "b=np.pi\n",
    "\n",
    "# Retorna lista de valores aceitos\n",
    "samples = rejection_sampling(n_samples, a, b, M, Ptheta, g)\n",
    "\n",
    "print(r'Amostras aceitas para distribuição $P(\\theta)$ (Rejection samples)')\n",
    "#print(samples)"
   ]
  },
  {
   "cell_type": "code",
   "execution_count": 11,
   "metadata": {},
   "outputs": [
    {
     "data": {
      "image/png": "[encoded data removed]",
      "text/plain": [
       "<Figure size 1152x648 with 1 Axes>"
      ]
     },
     "metadata": {
      "needs_background": "light"
     },
     "output_type": "display_data"
    }
   ],
   "source": [
    "theta_teo= np.linspace(0, np.pi, 200)\n",
    "Ptheta_teo = [Ptheta(i) for i in theta_teo]\n",
    "fig = plt.subplots(figsize=(16, 9))\n",
    "plt.hist(samples, bins=50, density=True, alpha=0.7, label=\"Amostras\", color='green')\n",
    "plt.plot(theta_teo, Ptheta_teo, label=r'$P(\\theta)$ teórico', mfc = \"None\", color = \"red\", linewidth=3)\n",
    "plt.legend(prop={\"size\": 22}, fancybox=True, framealpha=0.0)\n",
    "plt.xlabel(r\"$\\theta$\", size=25)\n",
    "plt.ylabel(r\"$P(\\theta)$\", size=25)\n",
    "plt.tick_params('both', width=1.4, length=10, labelsize=22)\n",
    "plt.savefig(\"results/Questão5/RejectionEmpiricoP.pdf\")\n",
    "plt.show()"
   ]
  },
  {
   "cell_type": "markdown",
   "metadata": {},
   "source": [
    "### **Item (d)** "
   ]
  },
  {
   "cell_type": "code",
   "execution_count": 12,
   "metadata": {},
   "outputs": [
    {
     "name": "stdout",
     "output_type": "stream",
     "text": [
      "E_medido = 1.5713575442605225, E_teórico = 1.5707963267948966, Erro_Absoluto = 0.000561217465625985\n",
      "var_medido = 0.9903499468134876, var_teórico = 0.8224670334241133, Erro_Absoluto = 0.16788291338937433\n"
     ]
    }
   ],
   "source": [
    "E = np.mean(samples) # Valor esperado das amostras (média)\n",
    "var = np.var(samples) # Variância das amostras\n",
    "\n",
    "E_teo = np.pi/2 # Valor esperado teórico\n",
    "var_teo = (2/(3*np.pi))*(((np.pi)**3)/3+(np.pi**3)/6)-(np.pi/2)**2 # Variância teórica\n",
    "\n",
    "Err_E = abs(E - E_teo)\n",
    "Err_var = abs(var - var_teo)\n",
    "\n",
    "print(f'E_medido = {E}, E_teórico = {E_teo}, Erro_Absoluto = {Err_E}')\n",
    "print(f'var_medido = {var}, var_teórico = {var_teo}, Erro_Absoluto = {Err_var}')"
   ]
  },
  {
   "cell_type": "markdown",
   "metadata": {},
   "source": [
    "### **Item (e)** "
   ]
  },
  {
   "cell_type": "code",
   "execution_count": 13,
   "metadata": {},
   "outputs": [
    {
     "name": "stdout",
     "output_type": "stream",
     "text": [
      "Estatística KS: 0.0009353862\n",
      "KS_Valor-p: 0.3455480805\n",
      "Estatística qui-quadrado: 0.0002285891\n",
      "Valor-p: 1.0000000000\n",
      "KS Test: Não rejeitamos H0. As distribuições podem ser iguais.\n",
      "Qui-Quadrado: Não rejeitamos H0. As distribuições podem ser iguais.\n"
     ]
    }
   ],
   "source": [
    "# Ordenar amostras\n",
    "x_sorted = np.sort(samples)\n",
    "x_min=0\n",
    "x_max=np.pi\n",
    "\n",
    "m = 200 # número de bins na distribuição\n",
    "\n",
    "# Construir a CDF \n",
    "x_theoretical = np.linspace(x_min, x_max, len(x_sorted))\n",
    "cdf_theoretical = np.cumsum(Ptheta(x_theoretical)) / np.sum(Ptheta(x_theoretical))\n",
    "\n",
    "ks_stat, ks_p_value = kstest(x_sorted, lambda v: np.interp(v, x_theoretical, cdf_theoretical))\n",
    "\n",
    "\n",
    "theta_data,Ptheta_data=distribution_data(samples, a, b, m)\n",
    "theta_teo= np.linspace(0, np.pi, len(theta_data))\n",
    "Ptheta_teo = [Ptheta(i) for i in theta_teo]\n",
    "\n",
    "# Normalizar as listas, caso não sejam proporções ou probabilidades (soma = 1)\n",
    "Ptheta_teo_norm = [x / sum(Ptheta_teo) for x in Ptheta_teo]\n",
    "Ptheta_data_norm = [x / sum(Ptheta_data) for x in Ptheta_data]\n",
    "\n",
    "# Aplicar o teste chi-quadrado\n",
    "chi2_stat, chi2_p_value = chisquare(f_obs=Ptheta_teo_norm, f_exp=Ptheta_data_norm)\n",
    "\n",
    "# Resultados com mais casas decimais\n",
    "print(f\"Estatística KS: {ks_stat:.10f}\")\n",
    "print(f\"KS_Valor-p: {ks_p_value:.10f}\")  # 10 casas decimais\n",
    "\n",
    "# Resultados com mais casas decimais\n",
    "print(f\"Estatística qui-quadrado: {chi2_stat:.10f}\")\n",
    "print(f\"Valor-p: {chi2_p_value:.10f}\")  # 10 casas decimais\n",
    "\n",
    "# Interpretação dos resultados\n",
    "alpha = 0.05  # Nível de significância\n",
    "\n",
    "# Teste KS\n",
    "if ks_p_value < alpha:\n",
    "    print(\"KS Test: Rejeitamos H0. As distribuições são diferentes.\")\n",
    "else:\n",
    "    print(\"KS Test: Não rejeitamos H0. As distribuições podem ser iguais.\")\n",
    "\n",
    "# Teste Qui-Quadrado\n",
    "if chi2_p_value < alpha:\n",
    "    print(\"Qui-Quadrado: Rejeitamos H0. As distribuições são diferentes.\")\n",
    "else:\n",
    "    print(\"Qui-Quadrado: Não rejeitamos H0. As distribuições podem ser iguais.\")"
   ]
  }
 ],
 "metadata": {
  "kernelspec": {
   "display_name": "Python 3",
   "language": "python",
   "name": "python3"
  },
  "language_info": {
   "codemirror_mode": {
    "name": "ipython",
    "version": 3
   },
   "file_extension": ".py",
   "mimetype": "text/x-python",
   "name": "python",
   "nbconvert_exporter": "python",
   "pygments_lexer": "ipython3",
   "version": "3.12.3"
  }
 },
 "nbformat": 4,
 "nbformat_minor": 2
}
