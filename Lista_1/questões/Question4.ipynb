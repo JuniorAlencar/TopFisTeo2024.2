{
 "cells": [
  {
   "cell_type": "code",
   "execution_count": 1,
   "metadata": {},
   "outputs": [],
   "source": [
    "from src.functions import *"
   ]
  },
  {
   "cell_type": "markdown",
   "metadata": {},
   "source": [
    "**Problema 4**: Considere a integral de uma função $f(\\boldsymbol{x})$ em um espaço de $d$ dimensões. A integral pode ser expressa como:\n",
    "$$\n",
    "    I = \\int_{[0,1]^d} f(\\boldsymbol{x})d\\boldsymbol{x}.\n",
    "$$\n",
    "\n",
    "**(a)**: Utilize Monte Carlo para estimar a integral acima. Gere N vetores $\\boldsymbol{x}$ com componentes uniformemente distribuídas no intervalo $[0,1]$ para $d = 1$ e $f(\\boldsymbol{x}) = e^{-|\\boldsymbol{x}|^2}$.\n",
    "\n",
    "**(b)**: Para diferentes valores de $d$ ($d = 2,6,10$), estude como o número de amostras $N$ necessário para alcançar a precisão desejada varia com a dimensionalidade.\n",
    "\n",
    "**(c)**: Calcule o erro padrão da média para cada caso e analise a taxa de convergência."
   ]
  },
  {
   "cell_type": "markdown",
   "metadata": {},
   "source": [
    "### **Item (a)**"
   ]
  },
  {
   "cell_type": "code",
   "execution_count": 2,
   "metadata": {},
   "outputs": [],
   "source": [
    "\n",
    "def integral_I(N, d):\n",
    "    \"\"\"\n",
    "    Aproximação de uma integral pelo método de Monte Carlo, calculando manualmente o módulo \n",
    "    (norma euclidiana) e mantendo um laço explícito sobre N.\n",
    "\n",
    "    Args:\n",
    "        N (int): Número de amostras aleatórias.\n",
    "        d (int): Dimensão da integral.\n",
    "\n",
    "    Returns:\n",
    "        float: Valor aproximado da integral.\n",
    "    \"\"\"\n",
    "    S = 0  # Inicializa a soma\n",
    "    \n",
    "    for i in range(N):  # Laço sobre as N amostras\n",
    "        # Gera um vetor aleatório de tamanho d, com valores uniformes entre 0 e 1\n",
    "        x_i = np.random.uniform(0, 1, d)\n",
    "        \n",
    "        # Calcula o módulo (norma euclidiana) do vetor x_i manualmente\n",
    "        # Fórmula: ||x|| = sqrt(x_1^2 + x_2^2 + ... + x_d^2)\n",
    "        modulus = np.sqrt(np.sum(x_i**2))\n",
    "        \n",
    "        # Soma a função objetivo avaliada no módulo\n",
    "        S += np.exp(-modulus**2)\n",
    "\n",
    "    # Retorna a média acumulada da soma para aproximar o valor da integral\n",
    "    return S / N\n",
    "\n"
   ]
  },
  {
   "cell_type": "code",
   "execution_count": 3,
   "metadata": {},
   "outputs": [
    {
     "name": "stdout",
     "output_type": "stream",
     "text": [
      "Valor aproximado da integral: 0.7472070911266516 para d=1\n",
      "valor teórico: 0.746824\n",
      "Diferença do valor real: 0.051%\n"
     ]
    }
   ],
   "source": [
    "\n",
    "#d=1 é a dimensão\n",
    "d=1\n",
    "N = 100000  # Número de amostras\n",
    "I=(0.746824)**d\n",
    "resultado = integral_I(N, d)\n",
    "print(f\"Valor aproximado da integral: {resultado} para d={d}\")\n",
    "print(f\"valor teórico: {I}\")\n",
    "diferenca = abs((resultado - I) / I) * 100\n",
    "print(f\"Diferença do valor real: {diferenca:0.3f}%\")"
   ]
  },
  {
   "cell_type": "markdown",
   "metadata": {},
   "source": [
    "### **Item (b)**"
   ]
  },
  {
   "cell_type": "code",
   "execution_count": 5,
   "metadata": {},
   "outputs": [
    {
     "name": "stdout",
     "output_type": "stream",
     "text": [
      "Valor aproximado da integral: 0.5631071885132908 para d=2\n",
      "valor teórico: 0.557746086976\n",
      "Diferença do valor real: 0.9612082742%\n",
      "Valor aproximado da integral: 0.1722442744625864 para d=6\n",
      "valor teórico: 0.17350404178504858\n",
      "Diferença do valor real: 0.7260737615%\n",
      "Valor aproximado da integral: 0.052791307019665015 para d=10\n",
      "valor teórico: 0.05397375834398862\n",
      "Diferença do valor real: 2.1907893032%\n"
     ]
    }
   ],
   "source": [
    "# Set the seed\n",
    "random.seed(42)\n",
    "#d é a dimensão\n",
    "for d in 2,6,10:\n",
    "    N = 1000  # Número de amostras\n",
    "    I=(0.746824)**d\n",
    "    resultado = integral_I(N, d)\n",
    "    print(f\"Valor aproximado da integral: {resultado} para d={d}\")\n",
    "    print(f\"valor teórico: {I}\")\n",
    "    diferenca = abs((resultado - I) / I) * 100\n",
    "    print(f\"Diferença do valor real: {diferenca:0.10f}%\")\n"
   ]
  },
  {
   "cell_type": "code",
   "execution_count": 7,
   "metadata": {},
   "outputs": [],
   "source": [
    "# Função para calcular erro padrão da média e a taxa de convergência\n",
    "def convergence_rate(d, N_samples_list):\n",
    "    \"\"\"\n",
    "    Calcula o erro padrão da média e taxa de convergência para diferentes números de amostras.\n",
    "    \n",
    "    Args:\n",
    "        d (int): Dimensão da integral.\n",
    "        N_samples_list (list of int): Lista com o número de amostras.\n",
    "    \n",
    "    Returns:\n",
    "        tuple: Lista de erros padrão da média e taxas de convergência.\n",
    "    \"\"\"\n",
    "    errors = []\n",
    "    for N in N_samples_list:\n",
    "        estimates = [integral_I(N, d) for _ in range(10)]  # Média em 10 execuções\n",
    "        error_std = np.std(estimates)                                # Erro padrão\n",
    "        errors.append(error_std)\n",
    "    \n",
    "    # Calcula a taxa de convergência: log-log slope\n",
    "    log_N = np.log(N_samples_list)\n",
    "    log_errors = np.log(errors)\n",
    "    slope = np.polyfit(log_N, log_errors, 1)[0]  # Coeficiente angular da reta\n",
    "    return errors, slope\n",
    "\n",
    "# Parâmetros\n",
    "dimensions = [2, 6, 10]\n",
    "N_samples_list = [10**i for i in range(2,7)]  # Amostras variando de 10^2 a 10^6\n"
   ]
  },
  {
   "cell_type": "code",
   "execution_count": null,
   "metadata": {},
   "outputs": [],
   "source": [
    "# Plotagem\n",
    "plt.figure(figsize=(16, 9))\n",
    "for d in dimensions:\n",
    "    errors, slope = convergence_rate(d, N_samples_list)\n",
    "    plt.plot(N_samples_list, errors, 'o', label=f'd = {d}, slope = {slope:.2f}', mfc=\"None\", ms=20, mew=1.8)\n",
    "\n",
    "plt.xscale('log')\n",
    "plt.yscale('log')\n",
    "plt.xlabel('Número de Amostras (N)', size=25)\n",
    "plt.ylabel('Erro Padrão da Média', size=25)\n",
    "\n",
    "# Configurações dos ticks\n",
    "plt.tick_params('both', which='major', width=1.4, length=10, labelsize=22)  # Major ticks\n",
    "plt.tick_params('both', which='minor', width=1.2, length=6, labelsize=18)   # Minor ticks\n",
    "plt.minorticks_on()  # Ativa os minor ticks\n",
    "\n",
    "plt.title('Taxa de Convergência do Método de Monte Carlo', fontsize=14)\n",
    "plt.legend(prop={\"size\": 22}, fancybox=True, framealpha=0.0)\n",
    "plt.show()\n"
   ]
  }
 ],
 "metadata": {
  "kernelspec": {
   "display_name": "Python 3",
   "language": "python",
   "name": "python3"
  },
  "language_info": {
   "codemirror_mode": {
    "name": "ipython",
    "version": 3
   },
   "file_extension": ".py",
   "mimetype": "text/x-python",
   "name": "python",
   "nbconvert_exporter": "python",
   "pygments_lexer": "ipython3",
   "version": "3.10.12"
  }
 },
 "nbformat": 4,
 "nbformat_minor": 2
}
