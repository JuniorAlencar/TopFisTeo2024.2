{
 "cells": [
  {
   "cell_type": "code",
   "execution_count": 1,
   "metadata": {},
   "outputs": [],
   "source": [
    "from src.functions import *"
   ]
  },
  {
   "cell_type": "markdown",
   "metadata": {},
   "source": [
    "**Problema 3**: A constante de Stefan-Boltzman, $\\sigma$, relaciona a energia total emitida por um corpo negro com a sua temperatura. Ela é dada por\n",
    "\n",
    "$$\n",
    "\\sigma=\\frac{\\pi^2k_b^4}{60\\hbar^3c^2}\\zeta(4),\n",
    "$$\n",
    "onde $\\zeta(s)$ é função zeta de Riemann. A função zeta de Riemann pode ser expressa na forma na forma integral:\n",
    "$$\n",
    "\\zeta(s)=\\frac{1}{\\Gamma(s)}\\int_0^{\\infty}\\frac{x^{s-1}e^{-x}}{1-e^{-x}}dx,\n",
    "$$\n",
    "onde $\\Gamma(s)=(s-1)!$ é a função Gamma. Utilizando *importance sampling*, gere amostras aleatórias de $x$ de uma distribuição exponencial, $\\omega(x)=e^{-x}$ para $x\\ge0$, que corresponde ao termo $e^{-x}$ no integrando. Reescreva a integral como\n",
    "$$\n",
    "\\zeta(s)=\\frac{1}{\\Gamma(s)}\\mathbb{E}\\left[\\frac{x^{s-1}}{1-e^{-x}}dx\\right].\n",
    "$$\n",
    "Compare seu resultado de Monte Carlo com o valor exato:\n",
    "$$\n",
    "\\zeta(4)=\\frac{\\pi^4}{90}.\n",
    "$$"
   ]
  },
  {
   "cell_type": "code",
   "execution_count": 2,
   "metadata": {},
   "outputs": [
    {
     "data": {
      "text/plain": [
       "1.0818828404502172"
      ]
     },
     "execution_count": 2,
     "metadata": {},
     "output_type": "execute_result"
    }
   ],
   "source": [
    "# Exemplo de uso da função\n",
    "N = 1000000  # Número de iterações\n",
    "s = 4  # Valor de s\n",
    "resultado = direct_zeta(N, s)\n",
    "resultado"
   ]
  },
  {
   "cell_type": "markdown",
   "metadata": {},
   "source": [
    "Diferença do valor exato"
   ]
  },
  {
   "cell_type": "code",
   "execution_count": 11,
   "metadata": {},
   "outputs": [
    {
     "name": "stdout",
     "output_type": "stream",
     "text": [
      "diferença do valor teórico e do obtido=0.044%\n"
     ]
    }
   ],
   "source": [
    "Zetta_teorico=np.pi**4/90\n",
    "Delta_zetta=Zetta_teorico-resultado\n",
    "percent_Delta_zetta=Delta_zetta*100\n",
    "print(f'diferença do valor teórico e do obtido={percent_Delta_zetta:.3f}%')"
   ]
  }
 ],
 "metadata": {
  "kernelspec": {
   "display_name": "Python 3",
   "language": "python",
   "name": "python3"
  },
  "language_info": {
   "codemirror_mode": {
    "name": "ipython",
    "version": 3
   },
   "file_extension": ".py",
   "mimetype": "text/x-python",
   "name": "python",
   "nbconvert_exporter": "python",
   "pygments_lexer": "ipython3",
   "version": "3.10.12"
  }
 },
 "nbformat": 4,
 "nbformat_minor": 2
}
