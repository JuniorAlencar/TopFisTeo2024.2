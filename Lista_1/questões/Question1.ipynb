{
 "cells": [
  {
   "cell_type": "code",
   "execution_count": 11,
   "metadata": {},
   "outputs": [],
   "source": [
    "import matplotlib.pyplot as plt\n",
    "import random\n",
    "import numpy as np"
   ]
  },
  {
   "cell_type": "markdown",
   "metadata": {},
   "source": [
    "**Problema 1**: Em sistemas termodinâmicos, a distribuição de Boltzmann descreve a probabilidade\n",
    "de encontrar um sistema em um estado específico com energia $E$. Este conceito é fundamental para\n",
    "entender fenômenos como equilíbrio térmico e a distribuição de partículas em diferentes níveis de\n",
    "energia. Considere a distribuição de Boltzmann para o problema do oscilador harmônico *clássico*:\n",
    "\n",
    "$$\n",
    "P(x) \\propto e^{-\\beta E(x)}, \\text{ com } E(x) = \\frac{1}{2} kx^2,\n",
    "$$\n",
    "\n",
    "onde $β = 1/k_BT$ , $k_B$ é a constante de Boltzmann e $T$ é a temperatura. Sob estas condições, a\n",
    "distribuição de equilíbrio para a coordenada $x$ é gaussiana, com média zero e variância $\\sigma = \\frac{1}{\\beta k}$.\n",
    "\n",
    "\n",
    "**(a)** Gere valores aleatórios de $x$ a partir de uma distribuição uniforme e aceite-os com probabilidade\n",
    "proporcional a $P (x)$ (método de rejeição). Assim, obtém-se uma amostra de valores de $x$ que\n",
    "devem refletir a distribuição de Boltzmann. \n",
    "\n",
    "\n",
    "**(b)** Crie um histograma dos valores simulados de $x$ e normalize-o para estimar a densidade de probabilidade empírica. \n",
    "\n",
    "**(c)** Sobreponha a curva teórica da distribuição de Boltzmann, dada por:\n",
    "\n",
    "$$\n",
    "P_{teórica} (x) = \\sqrt{\\frac{\\beta k}{2\\pi}} exp(-\\frac{\\beta k x^2}{2})\n",
    "$$\n",
    "\n",
    "**(d)** Calcule a média e a variância da amostra obtida e compare com os valores teóricos:\n",
    "\n",
    "$$\n",
    "\\mathbb{E}[x] = 0, Var(x) = 1\n",
    "βk .\n",
    "$$\n",
    "\n",
    "**(e)** Realize os testes estatísticos de Kolmogorov-Smirnov (K-S) e qui-quadrado para avaliar quan-\n",
    "titativamente se as amostras são consistentes com a distribuição teórica. (**f**) Crie um Q-Q plot\n",
    "para fornecer uma ferramenta visual adicional de comparação entre a distribuição empírica e a dis-\n",
    "tribuição teórica. Dessa forma, além da inspeção visual (histograma e curva teórica), a média, a\n",
    "variância, bem como testes estatísticos e o Q-Q plot, fornecerão evidências quantitativas e gráficas\n",
    "da qualidade da aproximação Monte Carlo à solução analítica"
   ]
  },
  {
   "cell_type": "code",
   "execution_count": 66,
   "metadata": {},
   "outputs": [
    {
     "data": {
      "image/png": "[encoded data removed]",
      "text/plain": [
       "<Figure size 640x480 with 1 Axes>"
      ]
     },
     "metadata": {},
     "output_type": "display_data"
    }
   ],
   "source": [
    "# Considerando k = kb = T = 1\n",
    "k = 1.0  # Constante de força\n",
    "kb = 1.0  # Constante de Boltzmann\n",
    "T = 1.0  # Temperatura\n",
    "beta = 1 / (kb * T) \n",
    "\n",
    "# Energia de Boltzmann\n",
    "def E(x):\n",
    "    return k * x ** 2 / 2\n",
    "\n",
    "# Distribuição de Boltzmann (não-normalizada)\n",
    "def P(x):\n",
    "    return np.exp((-k * x ** 2) / kb * T)\n",
    "\n",
    "# Distribuição proposta (uniforme) no intervalo [-a, a]\n",
    "#a = 1\n",
    "#a = 3\n",
    "def g(a, x):\n",
    "    return 1 / (2 * a) if -a <= x <= a else 0\n",
    "\n",
    "# Rejection Sampling\n",
    "\n",
    "# Devemos gerar um número aleatório uniforme [0, 1], se  u <= P(x')/M*g(x'), devemos aceitar x'. Onde x' é obtido de forma uniforme no intervalo [-a, a] (x_prop)\n",
    "def rejection_sampling(a, n_samples):\n",
    "    samples = []\n",
    "    \n",
    "    # Valor de M que faz com que Mg(x) >= P(x) para todos x no intervalo de interesse [-a, a]\n",
    "    M = max([P(y) / g(a, y) for y in np.linspace(-a, a, 1000)])\n",
    "    while len(samples) < n_samples:\n",
    "        # Amostra da proposta\n",
    "        x_prop = np.random.uniform(-a, a)\n",
    "        u = np.random.uniform(0, 1)\n",
    "        \n",
    "        # Verificar aceitação\n",
    "        if u <= P(x_prop) / (M * g(a, x_prop)):\n",
    "            samples.append(x_prop)\n",
    "    return np.array(samples)\n",
    "\n",
    "# Determina largura da gaussiana\n",
    "a = 5\n",
    "n_samples = 50000\n",
    "# Retorna lista de valores aceitos\n",
    "samples = rejection_sampling(a, n_samples)\n",
    "print(samples)\n",
    "# Visualizar os resultados\n",
    "x = np.linspace(-a, a, 1000)\n",
    "plt.hist(samples, bins=50, density=True, alpha=0.6, label=\"Amostras\")\n",
    "#plt.plot(x, P(x) / sum(P(x)), label=\"Distribuição alvo (não normalizada)\", color='red')\n",
    "#plt.plot(samples, P(samples) / sum(P(samples)), label=\"Distribuição alvo (não normalizada)\", color='red')\n",
    "plt.legend()\n",
    "plt.xlabel(\"x\")\n",
    "plt.ylabel(\"P(x)\")\n",
    "plt.title(\"Rejection Sampling da Distribuição de Boltzmann\")\n",
    "plt.show()"
   ]
  },
  {
   "cell_type": "code",
   "execution_count": 54,
   "metadata": {},
   "outputs": [
    {
     "name": "stdout",
     "output_type": "stream",
     "text": [
      "0.0001420457468616995\n"
     ]
    }
   ],
   "source": [
    "a = P(samples) / sum(P(samples))\n",
    "print(max(a))"
   ]
  }
 ],
 "metadata": {
  "kernelspec": {
   "display_name": "Python 3",
   "language": "python",
   "name": "python3"
  },
  "language_info": {
   "codemirror_mode": {
    "name": "ipython",
    "version": 3
   },
   "file_extension": ".py",
   "mimetype": "text/x-python",
   "name": "python",
   "nbconvert_exporter": "python",
   "pygments_lexer": "ipython3",
   "version": "3.10.12"
  }
 },
 "nbformat": 4,
 "nbformat_minor": 2
}
