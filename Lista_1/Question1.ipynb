{
 "cells": [
  {
   "cell_type": "code",
   "execution_count": 1,
   "metadata": {},
   "outputs": [],
   "source": [
    "import matplotlib.pyplot as plt"
   ]
  },
  {
   "cell_type": "markdown",
   "metadata": {},
   "source": [
    "**Problema 1**: Em sistemas termodinâmicos, a distribuição de Boltzmann descreve a probabilidade\n",
    "de encontrar um sistema em um estado específico com energia $E$. Este conceito é fundamental para\n",
    "entender fenômenos como equilíbrio térmico e a distribuição de partículas em diferentes níveis de\n",
    "energia. Considere a distribuição de Boltzmann para o problema do oscilador harmônico *clássico*:\n",
    "\n",
    "<p style=\"text-align: center;\"> \n",
    "P(x) \\sim e^{E(x)}, \\text{ com } E(x) = 1/2 kx^2,\n",
    "</p>\n",
    "\n",
    "onde $β = 1/k_BT$ , kB é a constante de Boltzmann e T é a temperatura. Sob estas condições, a\n",
    "distribuição de equilíbrio para a coordenada x é gaussiana, com média zero e variância σ2 = 1\n",
    "βk .\n",
    "(a) Gere valores aleatórios de x a partir de uma distribuição uniforme e aceite-os com probabilidade\n",
    "proporcional a P (x) (método de rejeição). Assim, obtém-se uma amostra de valores de x que\n",
    "devem refletir a distribuição de Boltzmann. (b) Crie um histograma dos valores simulados de x e\n",
    "normalize-o para estimar a densidade de probabilidade empírica. (c) Sobreponha a curva teórica da\n",
    "distribuição de Boltzmann, dada por:\n",
    "P teórica(x) =\n",
    "r βk\n",
    "2π exp\n",
    "\u0012\n",
    "− βkx2\n",
    "2\n",
    "\u0013\n",
    ".\n",
    "(d) Calcule a média e a variância da amostra obtida e compare com os valores teóricos:\n",
    "E[x] = 0, Var(x) = 1\n",
    "βk .\n",
    "(e) Realize os testes estatísticos de Kolmogorov-Smirnov (K-S) e qui-quadrado para avaliar quan-\n",
    "titativamente se as amostras são consistentes com a distribuição teórica. (f ) Crie um Q-Q plot\n",
    "para fornecer uma ferramenta visual adicional de comparação entre a distribuição empírica e a dis-\n",
    "tribuição teórica. Dessa forma, além da inspeção visual (histograma e curva teórica), a média, a\n",
    "variância, bem como testes estatísticos e o Q-Q plot, fornecerão evidências quantitativas e gráficas\n",
    "da qualidade da aproximação Monte Carlo à solução analítica"
   ]
  },
  {
   "cell_type": "code",
   "execution_count": null,
   "metadata": {},
   "outputs": [],
   "source": []
  }
 ],
 "metadata": {
  "kernelspec": {
   "display_name": "Python 3",
   "language": "python",
   "name": "python3"
  },
  "language_info": {
   "codemirror_mode": {
    "name": "ipython",
    "version": 3
   },
   "file_extension": ".py",
   "mimetype": "text/x-python",
   "name": "python",
   "nbconvert_exporter": "python",
   "pygments_lexer": "ipython3",
   "version": "3.10.12"
  }
 },
 "nbformat": 4,
 "nbformat_minor": 2
}
